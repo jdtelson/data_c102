{
 "cells": [
  {
   "cell_type": "markdown",
   "metadata": {
    "id": "ipzsEkjIS-fD"
   },
   "source": [
    "**102 Final Project EDA CHECKPOINT 1**"
   ]
  },
  {
   "cell_type": "markdown",
   "metadata": {
    "id": "hAzqBNTHTEWr"
   },
   "source": [
    "**1. Visualizations**\n",
    "- Heat Map \n",
    "- Scatter Plot \n"
   ]
  },
  {
   "cell_type": "markdown",
   "metadata": {
    "id": "0GgNdSBYTKvN"
   },
   "source": [
    "**2. Trends & Relationships**\n",
    "- Illinois Indiana Ohio and Kentucky have consistently poor air quality ratings - through all the years observed \n",
    "- California and other states in the West start off with fairly good ratings and get progressively worse as time goes on (with some exceptions; 2011-2012 it gets worse again before getting better.) \n",
    "- Wyoming is the only state to have an average of lower than  pm2.5 level in 2014 \n",
    "- We would also like to further follow up on the slight positive relationship between pm2.5 levels and asthma mortality rates.\n"
   ]
  },
  {
   "cell_type": "markdown",
   "metadata": {
    "id": "5YxtOH1ATWKx"
   },
   "source": [
    "**3. Data Cleaning Steps**\n",
    "- Filter asthma dataset for the same years as the pm2.5 dataset (2011-2014)\n",
    "- Filter asthma dataset for DataValueType == ‘Number’\n",
    "- Drop blank rows for DataValue in asthma dataset\n",
    "- Adjust state abbreviation strings so that all tables have the same format\n",
    "- Group pm2.5 dataset by year and state\n",
    "- Join both tables by state (had to use an external dataset that mapped state abbreviations to state ids)\n",
    "\n",
    "These decisions will impact our models and inferences as they will only be valid for the years 2011 through 2014, and they will only apply to the number of asthma cases. Also, when we grouped pm2.5 by year and state, we took the average of the pm2.5 levels. Taking the average of this value reduces the variance in our models.\n"
   ]
  },
  {
   "cell_type": "markdown",
   "metadata": {
    "id": "KkYXOfYCThYY"
   },
   "source": [
    "\n",
    "**4. Visualization Relevance:** \n",
    "The scatter plot shows that we have a positive (if weak) relationship between Asthma mortality and PM2.5 levels. The map choropleth shows us which states have changing levels of PM2.5 and which have consistently poor levels. This may become important when we choose which area or areas to focus on, or how to account for confounding variables.\n"
   ]
  },
  {
   "cell_type": "code",
   "execution_count": 2,
   "metadata": {
    "id": "psz0tVxs0Pfh"
   },
   "outputs": [],
   "source": [
    "import numpy as np\n",
    "import pandas as pd\n",
    "# from google.colab import drive\n",
    "import plotly.express as px\n",
    "import matplotlib.pyplot as plt\n",
    "import statsmodels.api as sm\n",
    "from sklearn import metrics"
   ]
  },
  {
   "cell_type": "markdown",
   "metadata": {
    "id": "5GD2g7uzTf6r"
   },
   "source": []
  },
  {
   "cell_type": "code",
   "execution_count": 2,
   "metadata": {
    "colab": {
     "base_uri": "https://localhost:8080/"
    },
    "id": "UgSAXVjA0dtj",
    "outputId": "6df7a3e1-ccbf-4d30-f16f-73fae894cf1f"
   },
   "outputs": [
    {
     "name": "stdout",
     "output_type": "stream",
     "text": [
      "Mounted at /content/drive/\n"
     ]
    }
   ],
   "source": [
    "drive.mount('/content/drive/')"
   ]
  },
  {
   "cell_type": "code",
   "execution_count": 3,
   "metadata": {
    "colab": {
     "base_uri": "https://localhost:8080/"
    },
    "id": "t5N1nrdf7y6_",
    "outputId": "6bc445f7-c307-403c-b7df-cd61badfdf6d"
   },
   "outputs": [
    {
     "name": "stderr",
     "output_type": "stream",
     "text": [
      "/usr/local/lib/python3.7/dist-packages/IPython/core/interactiveshell.py:2882: DtypeWarning: Columns (11) have mixed types.Specify dtype option on import or set low_memory=False.\n",
      "  exec(code_obj, self.user_global_ns, self.user_ns)\n"
     ]
    }
   ],
   "source": [
    "df1 = pd.read_csv('/content/drive/MyDrive/Data102-Group-Project/pm25_grouped_by_year_and_state.csv')\n",
    "df2 = pd.read_csv('/content/drive/MyDrive/Data102-Group-Project/U.S._Chronic_Disease_Indicators__Asthma.csv')\n",
    "state_ids = pd.read_csv('/content/drive/MyDrive/Data102-Group-Project/stateids.tsv', delimiter='\\t', header=None)"
   ]
  },
  {
   "cell_type": "code",
   "execution_count": 3,
   "metadata": {},
   "outputs": [],
   "source": [
    "df1 = pd.read_csv('pm25_grouped_by_year_and_state.csv')\n",
    "df2 = pd.read_csv('U.S._Chronic_Disease_Indicators__Asthma.csv')\n",
    "state_ids = pd.read_csv('stateids.tsv', delimiter='\\t', header=None)"
   ]
  },
  {
   "cell_type": "code",
   "execution_count": 4,
   "metadata": {
    "id": "mBZqMKQiAHGX"
   },
   "outputs": [
    {
     "name": "stderr",
     "output_type": "stream",
     "text": [
      "C:\\Users\\afros\\AppData\\Local\\Temp\\ipykernel_59012\\3664118970.py:1: FutureWarning: The frame.append method is deprecated and will be removed from pandas in a future version. Use pandas.concat instead.\n",
      "  state_ids = state_ids.append([['District of Columbia', 'DC', 11]]).reset_index(drop=True)\n"
     ]
    }
   ],
   "source": [
    "state_ids = state_ids.append([['District of Columbia', 'DC', 11]]).reset_index(drop=True)"
   ]
  },
  {
   "cell_type": "code",
   "execution_count": 5,
   "metadata": {
    "id": "o8AHPBd6-zDI"
   },
   "outputs": [],
   "source": [
    "df2 = df2.drop(columns = ['Response', 'DataValueUnit', 'StratificationCategory2','Stratification2', 'StratificationCategory3', 'Stratification3', 'ResponseID', 'StratificationID1', 'StratificationCategoryID2', 'StratificationID2', 'StratificationCategoryID3', 'StratificationID3'])"
   ]
  },
  {
   "cell_type": "code",
   "execution_count": 6,
   "metadata": {
    "id": "DzCSauH6-0LQ"
   },
   "outputs": [],
   "source": [
    "df2 = df2[((df2.YearEnd >= 2011) & (df2.YearEnd <= 2014))]"
   ]
  },
  {
   "cell_type": "code",
   "execution_count": null,
   "metadata": {
    "id": "opvehOW-gd57"
   },
   "outputs": [],
   "source": []
  },
  {
   "cell_type": "code",
   "execution_count": 7,
   "metadata": {
    "id": "-XgTyfWB-1_V"
   },
   "outputs": [],
   "source": [
    "code_book = {}\n",
    "for state, number in zip(state_ids[1].tolist(), state_ids[2].tolist()):\n",
    "    code_book[number] = state"
   ]
  },
  {
   "cell_type": "code",
   "execution_count": 8,
   "metadata": {
    "id": "ZZ6faFVo-3CN"
   },
   "outputs": [],
   "source": [
    "df1['LocationAbbr'] = df1['statefips'].map(code_book)"
   ]
  },
  {
   "cell_type": "code",
   "execution_count": 9,
   "metadata": {
    "id": "-zOtLge6-4gO"
   },
   "outputs": [],
   "source": [
    "fix_location = []\n",
    "for entry in df2.LocationAbbr:\n",
    "    if entry != np.nan:\n",
    "        entry = entry.replace(' ', '')\n",
    "    fix_location.append(entry)\n",
    "df2['LocationAbbr'] = fix_location"
   ]
  },
  {
   "cell_type": "code",
   "execution_count": 10,
   "metadata": {
    "id": "RXr0VMga-5d7"
   },
   "outputs": [],
   "source": [
    "fix_location = []\n",
    "for entry in df1.LocationAbbr:\n",
    "    if entry != np.nan:\n",
    "        entry = str(entry).replace(' ', '')\n",
    "    fix_location.append(entry)\n",
    "df1['LocationAbbr'] = fix_location"
   ]
  },
  {
   "cell_type": "code",
   "execution_count": 11,
   "metadata": {
    "id": "-mWb3vnY-6qa"
   },
   "outputs": [],
   "source": [
    "df3 = df2.set_index('LocationAbbr').merge(df1.set_index('LocationAbbr'), left_on=['LocationAbbr', 'YearStart'], right_on=['LocationAbbr', 'year'], how='inner').reset_index()"
   ]
  },
  {
   "cell_type": "code",
   "execution_count": 12,
   "metadata": {
    "id": "OiBypEBFHojh"
   },
   "outputs": [],
   "source": [
    "# df4 = df3[['LocationAbbr', 'YearStart', 'ds_pm_pred']]\n",
    "# df4 = df4.sort_values('YearStart')"
   ]
  },
  {
   "cell_type": "code",
   "execution_count": 13,
   "metadata": {
    "id": "mIF9fv33HpyN"
   },
   "outputs": [],
   "source": [
    "# fig = px.choropleth(df4,\n",
    "#                     locations='LocationAbbr', \n",
    "#                     locationmode=\"USA-states\", \n",
    "#                     scope=\"usa\",\n",
    "#                     color='ds_pm_pred',\n",
    "#                     color_continuous_scale=\"Viridis_r\",\n",
    "#                     animation_frame='YearStart'\n",
    "#                     )\n",
    "# fig.show()"
   ]
  },
  {
   "cell_type": "code",
   "execution_count": 14,
   "metadata": {
    "id": "UC1Vo9ufCZq_"
   },
   "outputs": [],
   "source": [
    "df4 = df3[df3['Question'] == 'Asthma mortality rate']\n",
    "df4 = df4[df4['DataValue'].isna() == False]\n",
    "df4 = df4[df4['DataValueType'] == 'Number']"
   ]
  },
  {
   "cell_type": "code",
   "execution_count": 15,
   "metadata": {
    "id": "kyHOpbgn4-PU"
   },
   "outputs": [],
   "source": [
    "df4 = df4.drop(['YearEnd', 'year', 'Topic', 'DataSource','DataValueType', 'DataValueAlt', 'DataValueFootnoteSymbol', \n",
    "          'DatavalueFootnote', 'TopicID', 'QuestionID', 'StratificationCategory1', 'DataValueTypeID',\n",
    "          'StratificationCategoryID1', 'LocationDesc', 'statefips', 'LowConfidenceLimit', 'HighConfidenceLimit'], axis=1).reset_index(drop=True)"
   ]
  },
  {
   "cell_type": "code",
   "execution_count": 16,
   "metadata": {
    "id": "Zdpf0QCf8n5p"
   },
   "outputs": [],
   "source": [
    "df5 = pd.get_dummies(df4, columns = ['Stratification1'])"
   ]
  },
  {
   "cell_type": "code",
   "execution_count": 17,
   "metadata": {
    "colab": {
     "base_uri": "https://localhost:8080/",
     "height": 461
    },
    "id": "5EqtBTwCHfeK",
    "outputId": "3f8fcd36-fef7-49ab-be5a-2ba4ec3cb105"
   },
   "outputs": [
    {
     "data": {
      "text/html": [
       "<div>\n",
       "<style scoped>\n",
       "    .dataframe tbody tr th:only-of-type {\n",
       "        vertical-align: middle;\n",
       "    }\n",
       "\n",
       "    .dataframe tbody tr th {\n",
       "        vertical-align: top;\n",
       "    }\n",
       "\n",
       "    .dataframe thead th {\n",
       "        text-align: right;\n",
       "    }\n",
       "</style>\n",
       "<table border=\"1\" class=\"dataframe\">\n",
       "  <thead>\n",
       "    <tr style=\"text-align: right;\">\n",
       "      <th></th>\n",
       "      <th>LocationAbbr</th>\n",
       "      <th>YearStart</th>\n",
       "      <th>Question</th>\n",
       "      <th>DataValue</th>\n",
       "      <th>LocationID</th>\n",
       "      <th>ds_pm_pred</th>\n",
       "      <th>Stratification1_Asian or Pacific Islander</th>\n",
       "      <th>Stratification1_Black, non-Hispanic</th>\n",
       "      <th>Stratification1_Female</th>\n",
       "      <th>Stratification1_Hispanic</th>\n",
       "      <th>Stratification1_Male</th>\n",
       "      <th>Stratification1_Overall</th>\n",
       "      <th>Stratification1_White, non-Hispanic</th>\n",
       "    </tr>\n",
       "  </thead>\n",
       "  <tbody>\n",
       "    <tr>\n",
       "      <th>0</th>\n",
       "      <td>AZ</td>\n",
       "      <td>2014</td>\n",
       "      <td>Asthma mortality rate</td>\n",
       "      <td>86.0</td>\n",
       "      <td>4</td>\n",
       "      <td>7.573242</td>\n",
       "      <td>0</td>\n",
       "      <td>0</td>\n",
       "      <td>0</td>\n",
       "      <td>0</td>\n",
       "      <td>0</td>\n",
       "      <td>1</td>\n",
       "      <td>0</td>\n",
       "    </tr>\n",
       "    <tr>\n",
       "      <th>1</th>\n",
       "      <td>AZ</td>\n",
       "      <td>2014</td>\n",
       "      <td>Asthma mortality rate</td>\n",
       "      <td>33.0</td>\n",
       "      <td>4</td>\n",
       "      <td>7.573242</td>\n",
       "      <td>0</td>\n",
       "      <td>0</td>\n",
       "      <td>0</td>\n",
       "      <td>0</td>\n",
       "      <td>1</td>\n",
       "      <td>0</td>\n",
       "      <td>0</td>\n",
       "    </tr>\n",
       "    <tr>\n",
       "      <th>2</th>\n",
       "      <td>AZ</td>\n",
       "      <td>2014</td>\n",
       "      <td>Asthma mortality rate</td>\n",
       "      <td>60.0</td>\n",
       "      <td>4</td>\n",
       "      <td>7.573242</td>\n",
       "      <td>0</td>\n",
       "      <td>0</td>\n",
       "      <td>0</td>\n",
       "      <td>0</td>\n",
       "      <td>0</td>\n",
       "      <td>0</td>\n",
       "      <td>1</td>\n",
       "    </tr>\n",
       "    <tr>\n",
       "      <th>3</th>\n",
       "      <td>AZ</td>\n",
       "      <td>2014</td>\n",
       "      <td>Asthma mortality rate</td>\n",
       "      <td>53.0</td>\n",
       "      <td>4</td>\n",
       "      <td>7.573242</td>\n",
       "      <td>0</td>\n",
       "      <td>0</td>\n",
       "      <td>1</td>\n",
       "      <td>0</td>\n",
       "      <td>0</td>\n",
       "      <td>0</td>\n",
       "      <td>0</td>\n",
       "    </tr>\n",
       "    <tr>\n",
       "      <th>4</th>\n",
       "      <td>GA</td>\n",
       "      <td>2014</td>\n",
       "      <td>Asthma mortality rate</td>\n",
       "      <td>58.0</td>\n",
       "      <td>13</td>\n",
       "      <td>10.808668</td>\n",
       "      <td>0</td>\n",
       "      <td>0</td>\n",
       "      <td>1</td>\n",
       "      <td>0</td>\n",
       "      <td>0</td>\n",
       "      <td>0</td>\n",
       "      <td>0</td>\n",
       "    </tr>\n",
       "  </tbody>\n",
       "</table>\n",
       "</div>"
      ],
      "text/plain": [
       "  LocationAbbr  YearStart               Question  DataValue  LocationID  \\\n",
       "0           AZ       2014  Asthma mortality rate       86.0           4   \n",
       "1           AZ       2014  Asthma mortality rate       33.0           4   \n",
       "2           AZ       2014  Asthma mortality rate       60.0           4   \n",
       "3           AZ       2014  Asthma mortality rate       53.0           4   \n",
       "4           GA       2014  Asthma mortality rate       58.0          13   \n",
       "\n",
       "   ds_pm_pred  Stratification1_Asian or Pacific Islander  \\\n",
       "0    7.573242                                          0   \n",
       "1    7.573242                                          0   \n",
       "2    7.573242                                          0   \n",
       "3    7.573242                                          0   \n",
       "4   10.808668                                          0   \n",
       "\n",
       "   Stratification1_Black, non-Hispanic  Stratification1_Female  \\\n",
       "0                                    0                       0   \n",
       "1                                    0                       0   \n",
       "2                                    0                       0   \n",
       "3                                    0                       1   \n",
       "4                                    0                       1   \n",
       "\n",
       "   Stratification1_Hispanic  Stratification1_Male  Stratification1_Overall  \\\n",
       "0                         0                     0                        1   \n",
       "1                         0                     1                        0   \n",
       "2                         0                     0                        0   \n",
       "3                         0                     0                        0   \n",
       "4                         0                     0                        0   \n",
       "\n",
       "   Stratification1_White, non-Hispanic  \n",
       "0                                    0  \n",
       "1                                    0  \n",
       "2                                    1  \n",
       "3                                    0  \n",
       "4                                    0  "
      ]
     },
     "execution_count": 17,
     "metadata": {},
     "output_type": "execute_result"
    }
   ],
   "source": [
    "df5.head()"
   ]
  },
  {
   "cell_type": "code",
   "execution_count": 30,
   "metadata": {
    "id": "NWItmgTYHlsq"
   },
   "outputs": [],
   "source": [
    "# for causal inference \n",
    "def fit_OLS_model(df, target_variable, explanatory_variables, intercept = False):\n",
    "    \"\"\"\n",
    "    Fits an OLS model from data.\n",
    "    \n",
    "    Inputs:\n",
    "        df: pandas DataFrame\n",
    "        target_variable: string, name of the target variable\n",
    "        explanatory_variables: list of strings, names of the explanatory variables\n",
    "        intercept: bool, if True add intercept term\n",
    "    Outputs:\n",
    "        fitted_model: model containing OLS regression results\n",
    "    \"\"\"\n",
    "    \n",
    "    target = df[target_variable]\n",
    "    inputs = df[explanatory_variables]\n",
    "    if intercept:\n",
    "        inputs = sm.add_constant(inputs)\n",
    "    \n",
    "    fitted_model = sm.OLS(target, inputs).fit()\n",
    "    return(fitted_model)"
   ]
  },
  {
   "cell_type": "code",
   "execution_count": 31,
   "metadata": {
    "colab": {
     "base_uri": "https://localhost:8080/"
    },
    "id": "S11vpOfgKaVf",
    "outputId": "81de9eb9-a235-4bb4-804c-005719caa681"
   },
   "outputs": [
    {
     "data": {
      "text/plain": [
       "array(['YearStart', 'LocationID', 'statefips',\n",
       "       'Stratification1_Black, non-Hispanic',\n",
       "       'Stratification1_White, non-Hispanic'], dtype=object)"
      ]
     },
     "execution_count": 31,
     "metadata": {},
     "output_type": "execute_result"
    }
   ],
   "source": [
    "all_col = np.delete(np.array(df5.columns), [0, 2, 3, 6, 7, 9, 10, 11, 12])\n",
    "all_col"
   ]
  },
  {
   "cell_type": "markdown",
   "metadata": {
    "id": "vHbrSWpqQbpE"
   },
   "source": [
    "Below are the diff analyses:\n",
    "0. DataValue vs pm level\n",
    "1. DataValue vs LocationID\n",
    "2. DataValue vs YearStart\n",
    "3. DataValue vs Female\n",
    "4. DataValue vs [pm levels, LocationID]\n",
    "5. DataValue vs [pm levels, YearStart]\n",
    "6. DataValue vs [pm levels, Female]\n",
    "7. DataValue vs [LocationID, YearStart]\n",
    "8. DataValue vs [LocationID, Female]\n",
    "9. DataValue vs [YearStart, Female]\n",
    "10. DataValue vs [pm levels, LocationID, YearStart]\n",
    "11. DataValue vs [pm levels, LocationID, Female]\n",
    "12. DataValue vs [pm levels, YearStart, Female]\n",
    "13. DataValue vs [LocationID, YearStart, Female]\n",
    "14. DataValue vs [pm levels, LocationID, YearStart, Female]"
   ]
  },
  {
   "cell_type": "markdown",
   "metadata": {
    "id": "tBjRP1vJNbT2"
   },
   "source": [
    "## Single Parameter (with DataValue)\n",
    "* Maybe look at relationship among different explanatory variables? (Location vs pm levels)\n",
    "* Also, we have not considered race here so idk if thats something else we wanna explore here?"
   ]
  },
  {
   "cell_type": "code",
   "execution_count": null,
   "metadata": {
    "colab": {
     "base_uri": "https://localhost:8080/"
    },
    "id": "lDBfJddeMxEz",
    "outputId": "f9c3b2ad-1315-4885-dd80-9144d1617179"
   },
   "outputs": [
    {
     "name": "stdout",
     "output_type": "stream",
     "text": [
      "                                 OLS Regression Results                                \n",
      "=======================================================================================\n",
      "Dep. Variable:              DataValue   R-squared (uncentered):                   0.598\n",
      "Model:                            OLS   Adj. R-squared (uncentered):              0.597\n",
      "Method:                 Least Squares   F-statistic:                              909.1\n",
      "Date:                Mon, 02 May 2022   Prob (F-statistic):                   4.92e-123\n",
      "Time:                        19:36:23   Log-Likelihood:                         -3280.9\n",
      "No. Observations:                 612   AIC:                                      6564.\n",
      "Df Residuals:                     611   BIC:                                      6568.\n",
      "Df Model:                           1                                                  \n",
      "Covariance Type:            nonrobust                                                  \n",
      "==============================================================================\n",
      "                 coef    std err          t      P>|t|      [0.025      0.975]\n",
      "------------------------------------------------------------------------------\n",
      "ds_pm_pred     6.6414      0.220     30.152      0.000       6.209       7.074\n",
      "==============================================================================\n",
      "Omnibus:                      432.218   Durbin-Watson:                   1.323\n",
      "Prob(Omnibus):                  0.000   Jarque-Bera (JB):             5412.550\n",
      "Skew:                           3.074   Prob(JB):                         0.00\n",
      "Kurtosis:                      16.208   Cond. No.                         1.00\n",
      "==============================================================================\n",
      "\n",
      "Warnings:\n",
      "[1] Standard Errors assume that the covariance matrix of the errors is correctly specified.\n"
     ]
    }
   ],
   "source": [
    "gammas_model = fit_OLS_model(df5, 'DataValue', 'ds_pm_pred')\n",
    "print(gammas_model.summary())"
   ]
  },
  {
   "cell_type": "code",
   "execution_count": null,
   "metadata": {
    "colab": {
     "base_uri": "https://localhost:8080/"
    },
    "id": "Xk174dtvNmC4",
    "outputId": "abb3f047-fe59-41f5-a484-6e29132ed9ef"
   },
   "outputs": [
    {
     "name": "stdout",
     "output_type": "stream",
     "text": [
      "                                 OLS Regression Results                                \n",
      "=======================================================================================\n",
      "Dep. Variable:              DataValue   R-squared (uncentered):                   0.433\n",
      "Model:                            OLS   Adj. R-squared (uncentered):              0.432\n",
      "Method:                 Least Squares   F-statistic:                              465.9\n",
      "Date:                Mon, 02 May 2022   Prob (F-statistic):                    3.10e-77\n",
      "Time:                        19:36:23   Log-Likelihood:                         -3386.4\n",
      "No. Observations:                 612   AIC:                                      6775.\n",
      "Df Residuals:                     611   BIC:                                      6779.\n",
      "Df Model:                           1                                                  \n",
      "Covariance Type:            nonrobust                                                  \n",
      "==============================================================================\n",
      "                 coef    std err          t      P>|t|      [0.025      0.975]\n",
      "------------------------------------------------------------------------------\n",
      "LocationID     1.6450      0.076     21.585      0.000       1.495       1.795\n",
      "==============================================================================\n",
      "Omnibus:                      389.010   Durbin-Watson:                   0.944\n",
      "Prob(Omnibus):                  0.000   Jarque-Bera (JB):             4235.339\n",
      "Skew:                           2.704   Prob(JB):                         0.00\n",
      "Kurtosis:                      14.698   Cond. No.                         1.00\n",
      "==============================================================================\n",
      "\n",
      "Warnings:\n",
      "[1] Standard Errors assume that the covariance matrix of the errors is correctly specified.\n"
     ]
    }
   ],
   "source": [
    "gammas_model1 = fit_OLS_model(df5, 'DataValue', 'LocationID')\n",
    "print(gammas_model1.summary())"
   ]
  },
  {
   "cell_type": "code",
   "execution_count": null,
   "metadata": {
    "colab": {
     "base_uri": "https://localhost:8080/"
    },
    "id": "K9LK4X1VNmaK",
    "outputId": "4af78cde-72ff-4cf9-ddcb-53a6b443030c"
   },
   "outputs": [
    {
     "name": "stdout",
     "output_type": "stream",
     "text": [
      "                                 OLS Regression Results                                \n",
      "=======================================================================================\n",
      "Dep. Variable:              DataValue   R-squared (uncentered):                   0.590\n",
      "Model:                            OLS   Adj. R-squared (uncentered):              0.589\n",
      "Method:                 Least Squares   F-statistic:                              878.9\n",
      "Date:                Mon, 02 May 2022   Prob (F-statistic):                   2.29e-120\n",
      "Time:                        19:36:24   Log-Likelihood:                         -3287.1\n",
      "No. Observations:                 612   AIC:                                      6576.\n",
      "Df Residuals:                     611   BIC:                                      6581.\n",
      "Df Model:                           1                                                  \n",
      "Covariance Type:            nonrobust                                                  \n",
      "==============================================================================\n",
      "                 coef    std err          t      P>|t|      [0.025      0.975]\n",
      "------------------------------------------------------------------------------\n",
      "YearStart      0.0310      0.001     29.646      0.000       0.029       0.033\n",
      "==============================================================================\n",
      "Omnibus:                      440.386   Durbin-Watson:                   1.308\n",
      "Prob(Omnibus):                  0.000   Jarque-Bera (JB):             5746.617\n",
      "Skew:                           3.140   Prob(JB):                         0.00\n",
      "Kurtosis:                      16.635   Cond. No.                         1.00\n",
      "==============================================================================\n",
      "\n",
      "Warnings:\n",
      "[1] Standard Errors assume that the covariance matrix of the errors is correctly specified.\n"
     ]
    }
   ],
   "source": [
    "gammas_model2 = fit_OLS_model(df5, 'DataValue', 'YearStart')\n",
    "print(gammas_model2.summary())"
   ]
  },
  {
   "cell_type": "code",
   "execution_count": null,
   "metadata": {
    "colab": {
     "base_uri": "https://localhost:8080/"
    },
    "id": "ZtOVIjM5Nme0",
    "outputId": "382b1df7-f1e4-4856-a1a3-a6ac7d390149"
   },
   "outputs": [
    {
     "name": "stdout",
     "output_type": "stream",
     "text": [
      "                                 OLS Regression Results                                \n",
      "=======================================================================================\n",
      "Dep. Variable:              DataValue   R-squared (uncentered):                   0.123\n",
      "Model:                            OLS   Adj. R-squared (uncentered):              0.122\n",
      "Method:                 Least Squares   F-statistic:                              86.03\n",
      "Date:                Mon, 02 May 2022   Prob (F-statistic):                    3.02e-19\n",
      "Time:                        19:36:24   Log-Likelihood:                         -3519.5\n",
      "No. Observations:                 612   AIC:                                      7041.\n",
      "Df Residuals:                     611   BIC:                                      7045.\n",
      "Df Model:                           1                                                  \n",
      "Covariance Type:            nonrobust                                                  \n",
      "==========================================================================================\n",
      "                             coef    std err          t      P>|t|      [0.025      0.975]\n",
      "------------------------------------------------------------------------------------------\n",
      "Stratification1_Female    62.1860      6.705      9.275      0.000      49.019      75.353\n",
      "==============================================================================\n",
      "Omnibus:                      331.516   Durbin-Watson:                   0.887\n",
      "Prob(Omnibus):                  0.000   Jarque-Bera (JB):             2902.246\n",
      "Skew:                           2.259   Prob(JB):                         0.00\n",
      "Kurtosis:                      12.664   Cond. No.                         1.00\n",
      "==============================================================================\n",
      "\n",
      "Warnings:\n",
      "[1] Standard Errors assume that the covariance matrix of the errors is correctly specified.\n"
     ]
    }
   ],
   "source": [
    "gammas_model3 = fit_OLS_model(df5, 'DataValue', 'Stratification1_Female')\n",
    "print(gammas_model3.summary())"
   ]
  },
  {
   "cell_type": "markdown",
   "metadata": {
    "id": "lR-h7sAuOTfj"
   },
   "source": [
    "## Two Parameters (with DataValue)"
   ]
  },
  {
   "cell_type": "markdown",
   "metadata": {
    "id": "HKbFaX0EO6Aw"
   },
   "source": [
    "### with pm level"
   ]
  },
  {
   "cell_type": "code",
   "execution_count": null,
   "metadata": {
    "colab": {
     "base_uri": "https://localhost:8080/"
    },
    "id": "5rOjdx7-Nmiz",
    "outputId": "558feb99-8ade-4e1a-f7c6-fd3f8656677d"
   },
   "outputs": [
    {
     "name": "stdout",
     "output_type": "stream",
     "text": [
      "                                 OLS Regression Results                                \n",
      "=======================================================================================\n",
      "Dep. Variable:              DataValue   R-squared (uncentered):                   0.599\n",
      "Model:                            OLS   Adj. R-squared (uncentered):              0.598\n",
      "Method:                 Least Squares   F-statistic:                              456.1\n",
      "Date:                Mon, 02 May 2022   Prob (F-statistic):                   7.58e-122\n",
      "Time:                        19:36:24   Log-Likelihood:                         -3280.0\n",
      "No. Observations:                 612   AIC:                                      6564.\n",
      "Df Residuals:                     610   BIC:                                      6573.\n",
      "Df Model:                           2                                                  \n",
      "Covariance Type:            nonrobust                                                  \n",
      "==============================================================================\n",
      "                 coef    std err          t      P>|t|      [0.025      0.975]\n",
      "------------------------------------------------------------------------------\n",
      "ds_pm_pred     7.1683      0.450     15.924      0.000       6.284       8.052\n",
      "LocationID    -0.1759      0.131     -1.342      0.180      -0.433       0.082\n",
      "==============================================================================\n",
      "Omnibus:                      421.443   Durbin-Watson:                   1.328\n",
      "Prob(Omnibus):                  0.000   Jarque-Bera (JB):             4984.634\n",
      "Skew:                           2.991   Prob(JB):                         0.00\n",
      "Kurtosis:                      15.637   Cond. No.                         7.48\n",
      "==============================================================================\n",
      "\n",
      "Warnings:\n",
      "[1] Standard Errors assume that the covariance matrix of the errors is correctly specified.\n"
     ]
    }
   ],
   "source": [
    "gammas_model4 = fit_OLS_model(df5, 'DataValue', ['ds_pm_pred', 'LocationID'])\n",
    "print(gammas_model4.summary())"
   ]
  },
  {
   "cell_type": "code",
   "execution_count": null,
   "metadata": {
    "colab": {
     "base_uri": "https://localhost:8080/"
    },
    "id": "ALcC1tSoNmmn",
    "outputId": "abeaa04a-3683-4f3f-bd7a-9db164b6d807"
   },
   "outputs": [
    {
     "name": "stdout",
     "output_type": "stream",
     "text": [
      "                                 OLS Regression Results                                \n",
      "=======================================================================================\n",
      "Dep. Variable:              DataValue   R-squared (uncentered):                   0.598\n",
      "Model:                            OLS   Adj. R-squared (uncentered):              0.597\n",
      "Method:                 Least Squares   F-statistic:                              454.0\n",
      "Date:                Mon, 02 May 2022   Prob (F-statistic):                   1.70e-121\n",
      "Time:                        19:36:24   Log-Likelihood:                         -3280.8\n",
      "No. Observations:                 612   AIC:                                      6566.\n",
      "Df Residuals:                     610   BIC:                                      6574.\n",
      "Df Model:                           2                                                  \n",
      "Covariance Type:            nonrobust                                                  \n",
      "==============================================================================\n",
      "                 coef    std err          t      P>|t|      [0.025      0.975]\n",
      "------------------------------------------------------------------------------\n",
      "ds_pm_pred     5.9326      1.674      3.545      0.000       2.646       9.219\n",
      "YearStart      0.0034      0.008      0.427      0.669      -0.012       0.019\n",
      "==============================================================================\n",
      "Omnibus:                      434.481   Durbin-Watson:                   1.324\n",
      "Prob(Omnibus):                  0.000   Jarque-Bera (JB):             5502.340\n",
      "Skew:                           3.093   Prob(JB):                         0.00\n",
      "Kurtosis:                      16.324   Cond. No.                     1.61e+03\n",
      "==============================================================================\n",
      "\n",
      "Warnings:\n",
      "[1] Standard Errors assume that the covariance matrix of the errors is correctly specified.\n",
      "[2] The condition number is large, 1.61e+03. This might indicate that there are\n",
      "strong multicollinearity or other numerical problems.\n"
     ]
    }
   ],
   "source": [
    "gammas_model5 = fit_OLS_model(df5, 'DataValue', ['ds_pm_pred', 'YearStart'])\n",
    "print(gammas_model5.summary())"
   ]
  },
  {
   "cell_type": "code",
   "execution_count": null,
   "metadata": {
    "colab": {
     "base_uri": "https://localhost:8080/"
    },
    "id": "jAXcIzy7Nmps",
    "outputId": "daa0e823-fdd5-4e51-f351-9c667af106e0"
   },
   "outputs": [
    {
     "name": "stdout",
     "output_type": "stream",
     "text": [
      "                                 OLS Regression Results                                \n",
      "=======================================================================================\n",
      "Dep. Variable:              DataValue   R-squared (uncentered):                   0.598\n",
      "Model:                            OLS   Adj. R-squared (uncentered):              0.597\n",
      "Method:                 Least Squares   F-statistic:                              453.8\n",
      "Date:                Mon, 02 May 2022   Prob (F-statistic):                   1.86e-121\n",
      "Time:                        19:36:26   Log-Likelihood:                         -3280.9\n",
      "No. Observations:                 612   AIC:                                      6566.\n",
      "Df Residuals:                     610   BIC:                                      6575.\n",
      "Df Model:                           2                                                  \n",
      "Covariance Type:            nonrobust                                                  \n",
      "==========================================================================================\n",
      "                             coef    std err          t      P>|t|      [0.025      0.975]\n",
      "------------------------------------------------------------------------------------------\n",
      "ds_pm_pred                 6.6458      0.248     26.839      0.000       6.160       7.132\n",
      "Stratification1_Female    -0.2001      5.104     -0.039      0.969     -10.223       9.823\n",
      "==============================================================================\n",
      "Omnibus:                      432.137   Durbin-Watson:                   1.323\n",
      "Prob(Omnibus):                  0.000   Jarque-Bera (JB):             5408.612\n",
      "Skew:                           3.074   Prob(JB):                         0.00\n",
      "Kurtosis:                      16.203   Cond. No.                         23.2\n",
      "==============================================================================\n",
      "\n",
      "Warnings:\n",
      "[1] Standard Errors assume that the covariance matrix of the errors is correctly specified.\n"
     ]
    }
   ],
   "source": [
    "gammas_model6 = fit_OLS_model(df5, 'DataValue', ['ds_pm_pred', 'Stratification1_Female'])\n",
    "print(gammas_model6.summary())"
   ]
  },
  {
   "cell_type": "markdown",
   "metadata": {
    "id": "eWdS_fwgO94P"
   },
   "source": [
    "### with LocationID"
   ]
  },
  {
   "cell_type": "code",
   "execution_count": null,
   "metadata": {
    "colab": {
     "base_uri": "https://localhost:8080/"
    },
    "id": "yhqrq-zkNmsD",
    "outputId": "abfce0ee-beb1-4aec-9558-766720acea3c"
   },
   "outputs": [
    {
     "name": "stdout",
     "output_type": "stream",
     "text": [
      "                                 OLS Regression Results                                \n",
      "=======================================================================================\n",
      "Dep. Variable:              DataValue   R-squared (uncentered):                   0.591\n",
      "Model:                            OLS   Adj. R-squared (uncentered):              0.590\n",
      "Method:                 Least Squares   F-statistic:                              441.5\n",
      "Date:                Mon, 02 May 2022   Prob (F-statistic):                   2.74e-119\n",
      "Time:                        19:36:26   Log-Likelihood:                         -3285.9\n",
      "No. Observations:                 612   AIC:                                      6576.\n",
      "Df Residuals:                     610   BIC:                                      6585.\n",
      "Df Model:                           2                                                  \n",
      "Covariance Type:            nonrobust                                                  \n",
      "==============================================================================\n",
      "                 coef    std err          t      P>|t|      [0.025      0.975]\n",
      "------------------------------------------------------------------------------\n",
      "LocationID    -0.2061      0.137     -1.510      0.132      -0.474       0.062\n",
      "YearStart      0.0339      0.002     15.397      0.000       0.030       0.038\n",
      "==============================================================================\n",
      "Omnibus:                      429.851   Durbin-Watson:                   1.314\n",
      "Prob(Omnibus):                  0.000   Jarque-Bera (JB):             5294.246\n",
      "Skew:                           3.058   Prob(JB):                         0.00\n",
      "Kurtosis:                      16.047   Cond. No.                         131.\n",
      "==============================================================================\n",
      "\n",
      "Warnings:\n",
      "[1] Standard Errors assume that the covariance matrix of the errors is correctly specified.\n"
     ]
    }
   ],
   "source": [
    "gammas_model7 = fit_OLS_model(df5, 'DataValue', ['LocationID', 'YearStart'])\n",
    "print(gammas_model7.summary())"
   ]
  },
  {
   "cell_type": "code",
   "execution_count": null,
   "metadata": {
    "colab": {
     "base_uri": "https://localhost:8080/"
    },
    "id": "7O0VkzO3HlxR",
    "outputId": "abcb98ee-5e8a-4eae-d727-96bd5b841b8a"
   },
   "outputs": [
    {
     "name": "stdout",
     "output_type": "stream",
     "text": [
      "                                 OLS Regression Results                                \n",
      "=======================================================================================\n",
      "Dep. Variable:              DataValue   R-squared (uncentered):                   0.442\n",
      "Model:                            OLS   Adj. R-squared (uncentered):              0.440\n",
      "Method:                 Least Squares   F-statistic:                              241.3\n",
      "Date:                Mon, 02 May 2022   Prob (F-statistic):                    6.18e-78\n",
      "Time:                        19:36:26   Log-Likelihood:                         -3381.4\n",
      "No. Observations:                 612   AIC:                                      6767.\n",
      "Df Residuals:                     610   BIC:                                      6776.\n",
      "Df Model:                           2                                                  \n",
      "Covariance Type:            nonrobust                                                  \n",
      "==========================================================================================\n",
      "                             coef    std err          t      P>|t|      [0.025      0.975]\n",
      "------------------------------------------------------------------------------------------\n",
      "LocationID                 1.5406      0.083     18.649      0.000       1.378       1.703\n",
      "Stratification1_Female    18.4050      5.847      3.148      0.002       6.922      29.888\n",
      "==============================================================================\n",
      "Omnibus:                      392.941   Durbin-Watson:                   0.998\n",
      "Prob(Omnibus):                  0.000   Jarque-Bera (JB):             4380.100\n",
      "Skew:                           2.732   Prob(JB):                         0.00\n",
      "Kurtosis:                      14.913   Cond. No.                         77.3\n",
      "==============================================================================\n",
      "\n",
      "Warnings:\n",
      "[1] Standard Errors assume that the covariance matrix of the errors is correctly specified.\n"
     ]
    }
   ],
   "source": [
    "gammas_model8 = fit_OLS_model(df5, 'DataValue', ['LocationID','Stratification1_Female'])\n",
    "print(gammas_model8.summary())"
   ]
  },
  {
   "cell_type": "markdown",
   "metadata": {
    "id": "ZUTKdXhvPUmd"
   },
   "source": [
    "### with YearStart"
   ]
  },
  {
   "cell_type": "code",
   "execution_count": null,
   "metadata": {
    "colab": {
     "base_uri": "https://localhost:8080/"
    },
    "id": "sXk9ek-SPTWY",
    "outputId": "6d878d1e-97ec-4c67-cebd-8baf32c336f5"
   },
   "outputs": [
    {
     "name": "stdout",
     "output_type": "stream",
     "text": [
      "                                 OLS Regression Results                                \n",
      "=======================================================================================\n",
      "Dep. Variable:              DataValue   R-squared (uncentered):                   0.590\n",
      "Model:                            OLS   Adj. R-squared (uncentered):              0.589\n",
      "Method:                 Least Squares   F-statistic:                              438.7\n",
      "Date:                Mon, 02 May 2022   Prob (F-statistic):                   8.52e-119\n",
      "Time:                        19:36:26   Log-Likelihood:                         -3287.1\n",
      "No. Observations:                 612   AIC:                                      6578.\n",
      "Df Residuals:                     610   BIC:                                      6587.\n",
      "Df Model:                           2                                                  \n",
      "Covariance Type:            nonrobust                                                  \n",
      "==========================================================================================\n",
      "                             coef    std err          t      P>|t|      [0.025      0.975]\n",
      "------------------------------------------------------------------------------------------\n",
      "YearStart                  0.0310      0.001     26.341      0.000       0.029       0.033\n",
      "Stratification1_Female    -0.2929      5.166     -0.057      0.955     -10.439       9.853\n",
      "==============================================================================\n",
      "Omnibus:                      440.293   Durbin-Watson:                   1.308\n",
      "Prob(Omnibus):                  0.000   Jarque-Bera (JB):             5741.645\n",
      "Skew:                           3.139   Prob(JB):                         0.00\n",
      "Kurtosis:                      16.629   Cond. No.                     4.93e+03\n",
      "==============================================================================\n",
      "\n",
      "Warnings:\n",
      "[1] Standard Errors assume that the covariance matrix of the errors is correctly specified.\n",
      "[2] The condition number is large, 4.93e+03. This might indicate that there are\n",
      "strong multicollinearity or other numerical problems.\n"
     ]
    }
   ],
   "source": [
    "gammas_model9 = fit_OLS_model(df5, 'DataValue', ['YearStart','Stratification1_Female'])\n",
    "print(gammas_model9.summary())"
   ]
  },
  {
   "cell_type": "markdown",
   "metadata": {
    "id": "X9_keC-fPeKt"
   },
   "source": [
    "## Three parameters (with DataValue)"
   ]
  },
  {
   "cell_type": "markdown",
   "metadata": {
    "id": "T7LIp2fQPnJN"
   },
   "source": [
    "### with pm levels"
   ]
  },
  {
   "cell_type": "code",
   "execution_count": null,
   "metadata": {
    "colab": {
     "base_uri": "https://localhost:8080/"
    },
    "id": "6au9ZkTYPdeD",
    "outputId": "d5624737-6801-4642-920a-c590dcc0e243"
   },
   "outputs": [
    {
     "name": "stdout",
     "output_type": "stream",
     "text": [
      "                                 OLS Regression Results                                \n",
      "=======================================================================================\n",
      "Dep. Variable:              DataValue   R-squared (uncentered):                   0.600\n",
      "Model:                            OLS   Adj. R-squared (uncentered):              0.598\n",
      "Method:                 Least Squares   F-statistic:                              304.0\n",
      "Date:                Mon, 02 May 2022   Prob (F-statistic):                   1.35e-120\n",
      "Time:                        19:36:26   Log-Likelihood:                         -3279.7\n",
      "No. Observations:                 612   AIC:                                      6565.\n",
      "Df Residuals:                     609   BIC:                                      6579.\n",
      "Df Model:                           3                                                  \n",
      "Covariance Type:            nonrobust                                                  \n",
      "==============================================================================\n",
      "                 coef    std err          t      P>|t|      [0.025      0.975]\n",
      "------------------------------------------------------------------------------\n",
      "ds_pm_pred     5.9103      1.672      3.535      0.000       2.627       9.194\n",
      "LocationID    -0.2019      0.135     -1.492      0.136      -0.468       0.064\n",
      "YearStart      0.0063      0.008      0.781      0.435      -0.010       0.022\n",
      "==============================================================================\n",
      "Omnibus:                      424.135   Durbin-Watson:                   1.330\n",
      "Prob(Omnibus):                  0.000   Jarque-Bera (JB):             5079.865\n",
      "Skew:                           3.012   Prob(JB):                         0.00\n",
      "Kurtosis:                      15.764   Cond. No.                     1.62e+03\n",
      "==============================================================================\n",
      "\n",
      "Warnings:\n",
      "[1] Standard Errors assume that the covariance matrix of the errors is correctly specified.\n",
      "[2] The condition number is large, 1.62e+03. This might indicate that there are\n",
      "strong multicollinearity or other numerical problems.\n"
     ]
    }
   ],
   "source": [
    "gammas_model10 = fit_OLS_model(df5, 'DataValue', ['ds_pm_pred', 'LocationID' , 'YearStart'])\n",
    "print(gammas_model10.summary())"
   ]
  },
  {
   "cell_type": "code",
   "execution_count": null,
   "metadata": {
    "colab": {
     "base_uri": "https://localhost:8080/"
    },
    "id": "bQCoh91iPzVj",
    "outputId": "82724607-02b8-4a0b-8394-3aee0ecb6f5e"
   },
   "outputs": [
    {
     "name": "stdout",
     "output_type": "stream",
     "text": [
      "                                 OLS Regression Results                                \n",
      "=======================================================================================\n",
      "Dep. Variable:              DataValue   R-squared (uncentered):                   0.599\n",
      "Model:                            OLS   Adj. R-squared (uncentered):              0.597\n",
      "Method:                 Least Squares   F-statistic:                              303.5\n",
      "Date:                Mon, 02 May 2022   Prob (F-statistic):                   1.83e-120\n",
      "Time:                        19:36:26   Log-Likelihood:                         -3280.0\n",
      "No. Observations:                 612   AIC:                                      6566.\n",
      "Df Residuals:                     609   BIC:                                      6579.\n",
      "Df Model:                           3                                                  \n",
      "Covariance Type:            nonrobust                                                  \n",
      "==========================================================================================\n",
      "                             coef    std err          t      P>|t|      [0.025      0.975]\n",
      "------------------------------------------------------------------------------------------\n",
      "ds_pm_pred                 7.1711      0.463     15.472      0.000       6.261       8.081\n",
      "LocationID                -0.1759      0.131     -1.340      0.181      -0.434       0.082\n",
      "Stratification1_Female    -0.1335      5.101     -0.026      0.979     -10.151       9.884\n",
      "==============================================================================\n",
      "Omnibus:                      421.389   Durbin-Watson:                   1.328\n",
      "Prob(Omnibus):                  0.000   Jarque-Bera (JB):             4982.187\n",
      "Skew:                           2.990   Prob(JB):                         0.00\n",
      "Kurtosis:                      15.634   Cond. No.                         82.1\n",
      "==============================================================================\n",
      "\n",
      "Warnings:\n",
      "[1] Standard Errors assume that the covariance matrix of the errors is correctly specified.\n"
     ]
    }
   ],
   "source": [
    "gammas_model11 = fit_OLS_model(df5, 'DataValue', ['ds_pm_pred', 'LocationID' , 'Stratification1_Female'])\n",
    "print(gammas_model11.summary())"
   ]
  },
  {
   "cell_type": "code",
   "execution_count": null,
   "metadata": {
    "colab": {
     "base_uri": "https://localhost:8080/"
    },
    "id": "XEBfgJ0uP5lt",
    "outputId": "4ab39857-8cd8-4078-fb41-0913e0aae30a"
   },
   "outputs": [
    {
     "name": "stdout",
     "output_type": "stream",
     "text": [
      "                                 OLS Regression Results                                \n",
      "=======================================================================================\n",
      "Dep. Variable:              DataValue   R-squared (uncentered):                   0.598\n",
      "Model:                            OLS   Adj. R-squared (uncentered):              0.596\n",
      "Method:                 Least Squares   F-statistic:                              302.2\n",
      "Date:                Mon, 02 May 2022   Prob (F-statistic):                   4.08e-120\n",
      "Time:                        19:36:26   Log-Likelihood:                         -3280.8\n",
      "No. Observations:                 612   AIC:                                      6568.\n",
      "Df Residuals:                     609   BIC:                                      6581.\n",
      "Df Model:                           3                                                  \n",
      "Covariance Type:            nonrobust                                                  \n",
      "==========================================================================================\n",
      "                             coef    std err          t      P>|t|      [0.025      0.975]\n",
      "------------------------------------------------------------------------------------------\n",
      "ds_pm_pred                 5.9329      1.675      3.542      0.000       2.643       9.223\n",
      "YearStart                  0.0034      0.008      0.430      0.667      -0.012       0.019\n",
      "Stratification1_Female    -0.3436      5.118     -0.067      0.946     -10.395       9.708\n",
      "==============================================================================\n",
      "Omnibus:                      434.366   Durbin-Watson:                   1.324\n",
      "Prob(Omnibus):                  0.000   Jarque-Bera (JB):             5496.437\n",
      "Skew:                           3.092   Prob(JB):                         0.00\n",
      "Kurtosis:                      16.316   Cond. No.                     4.93e+03\n",
      "==============================================================================\n",
      "\n",
      "Warnings:\n",
      "[1] Standard Errors assume that the covariance matrix of the errors is correctly specified.\n",
      "[2] The condition number is large, 4.93e+03. This might indicate that there are\n",
      "strong multicollinearity or other numerical problems.\n"
     ]
    }
   ],
   "source": [
    "gammas_model12 = fit_OLS_model(df5, 'DataValue', ['ds_pm_pred', 'YearStart' , 'Stratification1_Female'])\n",
    "print(gammas_model12.summary())"
   ]
  },
  {
   "cell_type": "markdown",
   "metadata": {
    "id": "z_Xv2JjMP-wh"
   },
   "source": [
    "### with LocationID"
   ]
  },
  {
   "cell_type": "code",
   "execution_count": null,
   "metadata": {
    "colab": {
     "base_uri": "https://localhost:8080/"
    },
    "id": "FR65l2eaQAyJ",
    "outputId": "7c70772b-42ed-4373-a1e3-0e25abb7314a"
   },
   "outputs": [
    {
     "name": "stdout",
     "output_type": "stream",
     "text": [
      "                                 OLS Regression Results                                \n",
      "=======================================================================================\n",
      "Dep. Variable:              DataValue   R-squared (uncentered):                   0.591\n",
      "Model:                            OLS   Adj. R-squared (uncentered):              0.589\n",
      "Method:                 Least Squares   F-statistic:                              293.9\n",
      "Date:                Mon, 02 May 2022   Prob (F-statistic):                   6.48e-118\n",
      "Time:                        19:36:26   Log-Likelihood:                         -3285.9\n",
      "No. Observations:                 612   AIC:                                      6578.\n",
      "Df Residuals:                     609   BIC:                                      6591.\n",
      "Df Model:                           3                                                  \n",
      "Covariance Type:            nonrobust                                                  \n",
      "==========================================================================================\n",
      "                             coef    std err          t      P>|t|      [0.025      0.975]\n",
      "------------------------------------------------------------------------------------------\n",
      "LocationID                -0.2062      0.137     -1.509      0.132      -0.475       0.062\n",
      "YearStart                  0.0340      0.002     14.939      0.000       0.030       0.038\n",
      "Stratification1_Female    -0.3436      5.161     -0.067      0.947     -10.479       9.792\n",
      "==============================================================================\n",
      "Omnibus:                      429.736   Durbin-Watson:                   1.314\n",
      "Prob(Omnibus):                  0.000   Jarque-Bera (JB):             5288.471\n",
      "Skew:                           3.057   Prob(JB):                         0.00\n",
      "Kurtosis:                      16.039   Cond. No.                     4.93e+03\n",
      "==============================================================================\n",
      "\n",
      "Warnings:\n",
      "[1] Standard Errors assume that the covariance matrix of the errors is correctly specified.\n",
      "[2] The condition number is large, 4.93e+03. This might indicate that there are\n",
      "strong multicollinearity or other numerical problems.\n"
     ]
    }
   ],
   "source": [
    "gammas_model13 = fit_OLS_model(df5, 'DataValue', ['LocationID' , 'YearStart','Stratification1_Female'])\n",
    "print(gammas_model13.summary())"
   ]
  },
  {
   "cell_type": "markdown",
   "metadata": {
    "id": "LJwyHL5eQH9n"
   },
   "source": [
    "## Four parameters (with DataValue)"
   ]
  },
  {
   "cell_type": "code",
   "execution_count": null,
   "metadata": {
    "colab": {
     "base_uri": "https://localhost:8080/"
    },
    "id": "Y9h5iWSeQM9l",
    "outputId": "61546f0f-9b2e-4ec1-c118-d9a8d4e700bb"
   },
   "outputs": [
    {
     "name": "stdout",
     "output_type": "stream",
     "text": [
      "                                 OLS Regression Results                                \n",
      "=======================================================================================\n",
      "Dep. Variable:              DataValue   R-squared (uncentered):                   0.600\n",
      "Model:                            OLS   Adj. R-squared (uncentered):              0.597\n",
      "Method:                 Least Squares   F-statistic:                              227.7\n",
      "Date:                Mon, 02 May 2022   Prob (F-statistic):                   2.55e-119\n",
      "Time:                        19:36:27   Log-Likelihood:                         -3279.7\n",
      "No. Observations:                 612   AIC:                                      6567.\n",
      "Df Residuals:                     608   BIC:                                      6585.\n",
      "Df Model:                           4                                                  \n",
      "Covariance Type:            nonrobust                                                  \n",
      "==========================================================================================\n",
      "                             coef    std err          t      P>|t|      [0.025      0.975]\n",
      "------------------------------------------------------------------------------------------\n",
      "ds_pm_pred                 5.9107      1.673      3.532      0.000       2.624       9.197\n",
      "LocationID                -0.2019      0.135     -1.491      0.136      -0.468       0.064\n",
      "YearStart                  0.0064      0.008      0.784      0.433      -0.010       0.022\n",
      "Stratification1_Female    -0.3930      5.113     -0.077      0.939     -10.434       9.648\n",
      "==============================================================================\n",
      "Omnibus:                      423.996   Durbin-Watson:                   1.330\n",
      "Prob(Omnibus):                  0.000   Jarque-Bera (JB):             5073.182\n",
      "Skew:                           3.011   Prob(JB):                         0.00\n",
      "Kurtosis:                      15.755   Cond. No.                     4.93e+03\n",
      "==============================================================================\n",
      "\n",
      "Warnings:\n",
      "[1] Standard Errors assume that the covariance matrix of the errors is correctly specified.\n",
      "[2] The condition number is large, 4.93e+03. This might indicate that there are\n",
      "strong multicollinearity or other numerical problems.\n"
     ]
    }
   ],
   "source": [
    "gammas_model14 = fit_OLS_model(df5, 'DataValue', ['ds_pm_pred', 'LocationID' , 'YearStart','Stratification1_Female'])\n",
    "print(gammas_model14.summary())"
   ]
  },
  {
   "cell_type": "markdown",
   "metadata": {
    "id": "UfXu7s4zQUDe"
   },
   "source": [
    "## Visualizations"
   ]
  },
  {
   "cell_type": "code",
   "execution_count": null,
   "metadata": {
    "colab": {
     "base_uri": "https://localhost:8080/",
     "height": 279
    },
    "id": "hbP6HADOVtDY",
    "outputId": "1993cdff-4321-42f0-ee02-62f474eb5027"
   },
   "outputs": [
    {
     "data": {
      "image/png": "[encoded data removed]",
      "text/plain": [
       "<Figure size 432x288 with 1 Axes>"
      ]
     },
     "metadata": {
      "needs_background": "light"
     },
     "output_type": "display_data"
    }
   ],
   "source": [
    "mortality_only = df3[df3['Question'] == 'Asthma mortality rate']\n",
    "\n",
    "mortality_only = mortality_only.dropna(subset=['DataValue'])\n",
    "mortality_only = mortality_only.dropna(subset=['ds_pm_pred'])\n",
    "\n",
    "x = np.log(mortality_only['ds_pm_pred'])\n",
    "y = np.log(mortality_only['DataValue'])\n",
    "m, b = np.polyfit(x, y, 1)\n",
    "\n",
    "plt.scatter(x, y)\n",
    "plt.plot(x, m*x + b, color = 'r')\n",
    "plt.xlabel('log pm2.5 level')\n",
    "plt.ylabel('Log Asthma Mortality Rate');"
   ]
  },
  {
   "cell_type": "code",
   "execution_count": null,
   "metadata": {
    "id": "F6UC4yvIX6EP"
   },
   "outputs": [],
   "source": []
  },
  {
   "cell_type": "markdown",
   "metadata": {
    "id": "wSCAs03mbh3u"
   },
   "source": [
    "## GLM + Nonparametric Models\n",
    "\n",
    "- Predicting asthma rates based on socioeconomic indicators of the demographics (age, sex, race etc.) using negative binomial regression and random forests.\n",
    "\n",
    "- We will use random forests for our nonparametric method because random forests are great with high dimensional data, and here we have multiple features we want to account for.\n",
    "- We will use negative binomial regression for our GLM because it is used for counts, and it does not restrict the mean to be equal to the variance.\n",
    "- We plan to use socioeconomic indicators of demographics (age, sex, race, etc.) for our features.\n"
   ]
  },
  {
   "cell_type": "markdown",
   "metadata": {
    "id": "AXJr2hECc5Tb"
   },
   "source": [
    "Set up a prediction problem, and use both GLMs and nonparametric models to carry out your\n",
    "prediction. You should identify the best choice of link function/likelihood model for your GLM, and\n",
    "present results from both a frequentist and Bayesian implementation of the GLM. Similarly, you\n",
    "should also choose one or two nonparametric models for prediction, and compare the results\n",
    "\n",
    "**Methods**\n",
    "\n",
    "– Describe what you’re trying to predict, and what features you’re using. Justify your\n",
    "choices.\n",
    "\n",
    "– Describe the GLM you’ll be using, justifying your choice. Describe any assumptions being\n",
    "made by your modeling choice.\n",
    "\n",
    "– Describe the nonparametric method(s) you’ll be using, justifying your choice. Describe\n",
    "any assumptions being made by your modeling choice.\n",
    "\n",
    "– How will you evaluate each model’s performance?\n",
    "\n",
    "\n",
    "**Results**\n",
    "\n",
    "– Summarize and interpret the results from your models.\n",
    "\n",
    "– Estimate any uncertainty in your GLM predictions, providing clear quantitative statements of the uncertainty in plain English.\n",
    "\n",
    "\n",
    "**Discussion**\n",
    "\n",
    "– Which model performed better, and why? How confident are you in applying this to\n",
    "future datasets?\n",
    "\n",
    "– Discuss how well each model fits the data.\n",
    "\n",
    "– Explain any differences you observed between the Bayesian and frequentist implementations of your GLM.\n",
    "\n",
    "– Interpret the results from each model. You may choose to not provide interpretations, but you must justify this choice.\n",
    "\n",
    "– Elaborate on the limitations of each model.\n",
    "\n",
    "– What additional data would be useful for improving your models?"
   ]
  },
  {
   "cell_type": "markdown",
   "metadata": {
    "id": "LGLWxk1fcLNC"
   },
   "source": [
    "### GLM"
   ]
  },
  {
   "cell_type": "markdown",
   "metadata": {
    "id": "AwS2S9mDcbTd"
   },
   "source": [
    "\n",
    "You should identify the best choice of link function/likelihood model for your GLM, and\n",
    "present results from both a frequentist and Bayesian implementation of the GLM.\n",
    "\n",
    "\n",
    "- Negative binomial GLM"
   ]
  },
  {
   "cell_type": "markdown",
   "metadata": {
    "id": "jIF8DLBLcMjI"
   },
   "source": [
    "### Nonparametric Models"
   ]
  },
  {
   "cell_type": "markdown",
   "metadata": {
    "id": "DjiEGlFdcz1s"
   },
   "source": [
    "Similarly, you\n",
    "should also choose one or two nonparametric models for prediction, and compare the results.\n",
    "\n",
    "- Random Forests"
   ]
  },
  {
   "cell_type": "code",
   "execution_count": 152,
   "metadata": {
    "id": "K8-xMzdXfTLk"
   },
   "outputs": [],
   "source": [
    "from sklearn.tree import ExtraTreeRegressor\n",
    "from sklearn.ensemble import RandomForestRegressor, AdaBoostRegressor\n",
    "from sklearn.pipeline import Pipeline, make_pipeline\n",
    "from sklearn.model_selection import train_test_split, GridSearchCV\n",
    "from sklearn_evaluation import plot\n",
    "import seaborn as sns"
   ]
  },
  {
   "cell_type": "code",
   "execution_count": 155,
   "metadata": {},
   "outputs": [],
   "source": [
    "pd.set_option('display.max_columns', None)"
   ]
  },
  {
   "cell_type": "code",
   "execution_count": 21,
   "metadata": {
    "id": "1OlxVQQAfKfg",
    "jupyter": {
     "source_hidden": true
    },
    "tags": []
   },
   "outputs": [],
   "source": [
    "def predict_report(model, X, y):\n",
    "    y_base = y\n",
    "    probs = model.predict_proba(X)\n",
    "    preds = probs[:,1]\n",
    "    fpr, tpr, threshold = metrics.roc_curve(y, preds)\n",
    "    roc_auc = metrics.auc(fpr, tpr)\n",
    "\n",
    "    plt.figure()\n",
    "    plt.plot(fpr, tpr, label='GridSearchCV (area = %0.2f)' % roc_auc)\n",
    "    plt.plot([0, 1], [0, 1],'r--')\n",
    "    plt.xlim([0.0, 1.0])\n",
    "    plt.ylim([0.0, 1.05])\n",
    "    plt.xlabel('False Positive Rate')\n",
    "    plt.ylabel('True Positive Rate')\n",
    "    plt.title('Receiver operating characteristic')\n",
    "    plt.legend(loc=\"lower right\")\n",
    "    plt.savefig('Log_ROC')\n",
    "    plt.show()\n",
    "    classes = model.predict(X)\n",
    "\n",
    "    accuracy = metrics.accuracy_score(classes, y)\n",
    "\n",
    "    balanced_accuracy = metrics.balanced_accuracy_score(classes, y)\n",
    "\n",
    "    precision = metrics.precision_score(classes, y)\n",
    "\n",
    "    average_precision = metrics.average_precision_score(classes, y)\n",
    "\n",
    "    f1_score = metrics.f1_score(classes, y)\n",
    "\n",
    "    recall = metrics.recall_score(classes, y)\n",
    "    print(metrics.classification_report(classes, y))\n",
    "    y_i = model.predict(X)\n",
    "    sensitivity = sum((y_i == 1) & (y_base == 1)) / sum(y_base==1)\n",
    "    specificity = sum((y_i == 1) & (y_base == 1)) / sum(y_base==1)\n",
    "    accuracy = sum(y_i == y_base) / len(y_base)\n",
    "    new = '\\n'\n",
    "    print(f' Sensitivity : {sensitivity} {new} Specificity : {specificity} {new} Accuracy : {accuracy}')\n",
    "    return y_i"
   ]
  },
  {
   "cell_type": "code",
   "execution_count": 36,
   "metadata": {
    "colab": {
     "base_uri": "https://localhost:8080/",
     "height": 461
    },
    "id": "Mku4f66_bvcs",
    "outputId": "c4271bde-b3ec-485b-d174-7cff45b83c90"
   },
   "outputs": [
    {
     "data": {
      "text/html": [
       "\n",
       "  <div id=\"df-e7df64f9-7d28-40dd-9c93-3bedd7431f08\">\n",
       "    <div class=\"colab-df-container\">\n",
       "      <div>\n",
       "<style scoped>\n",
       "    .dataframe tbody tr th:only-of-type {\n",
       "        vertical-align: middle;\n",
       "    }\n",
       "\n",
       "    .dataframe tbody tr th {\n",
       "        vertical-align: top;\n",
       "    }\n",
       "\n",
       "    .dataframe thead th {\n",
       "        text-align: right;\n",
       "    }\n",
       "</style>\n",
       "<table border=\"1\" class=\"dataframe\">\n",
       "  <thead>\n",
       "    <tr style=\"text-align: right;\">\n",
       "      <th></th>\n",
       "      <th>LocationAbbr</th>\n",
       "      <th>YearStart</th>\n",
       "      <th>Question</th>\n",
       "      <th>DataValue</th>\n",
       "      <th>LocationID</th>\n",
       "      <th>statefips</th>\n",
       "      <th>ds_pm_pred</th>\n",
       "      <th>Stratification1_Asian or Pacific Islander</th>\n",
       "      <th>Stratification1_Black, non-Hispanic</th>\n",
       "      <th>Stratification1_Female</th>\n",
       "      <th>Stratification1_Hispanic</th>\n",
       "      <th>Stratification1_Male</th>\n",
       "      <th>Stratification1_Overall</th>\n",
       "      <th>Stratification1_White, non-Hispanic</th>\n",
       "    </tr>\n",
       "  </thead>\n",
       "  <tbody>\n",
       "    <tr>\n",
       "      <th>0</th>\n",
       "      <td>AZ</td>\n",
       "      <td>2014</td>\n",
       "      <td>Asthma mortality rate</td>\n",
       "      <td>86.0</td>\n",
       "      <td>4</td>\n",
       "      <td>4</td>\n",
       "      <td>7.573242</td>\n",
       "      <td>0</td>\n",
       "      <td>0</td>\n",
       "      <td>0</td>\n",
       "      <td>0</td>\n",
       "      <td>0</td>\n",
       "      <td>1</td>\n",
       "      <td>0</td>\n",
       "    </tr>\n",
       "    <tr>\n",
       "      <th>1</th>\n",
       "      <td>AZ</td>\n",
       "      <td>2014</td>\n",
       "      <td>Asthma mortality rate</td>\n",
       "      <td>33.0</td>\n",
       "      <td>4</td>\n",
       "      <td>4</td>\n",
       "      <td>7.573242</td>\n",
       "      <td>0</td>\n",
       "      <td>0</td>\n",
       "      <td>0</td>\n",
       "      <td>0</td>\n",
       "      <td>1</td>\n",
       "      <td>0</td>\n",
       "      <td>0</td>\n",
       "    </tr>\n",
       "    <tr>\n",
       "      <th>2</th>\n",
       "      <td>AZ</td>\n",
       "      <td>2014</td>\n",
       "      <td>Asthma mortality rate</td>\n",
       "      <td>60.0</td>\n",
       "      <td>4</td>\n",
       "      <td>4</td>\n",
       "      <td>7.573242</td>\n",
       "      <td>0</td>\n",
       "      <td>0</td>\n",
       "      <td>0</td>\n",
       "      <td>0</td>\n",
       "      <td>0</td>\n",
       "      <td>0</td>\n",
       "      <td>1</td>\n",
       "    </tr>\n",
       "    <tr>\n",
       "      <th>3</th>\n",
       "      <td>AZ</td>\n",
       "      <td>2014</td>\n",
       "      <td>Asthma mortality rate</td>\n",
       "      <td>53.0</td>\n",
       "      <td>4</td>\n",
       "      <td>4</td>\n",
       "      <td>7.573242</td>\n",
       "      <td>0</td>\n",
       "      <td>0</td>\n",
       "      <td>1</td>\n",
       "      <td>0</td>\n",
       "      <td>0</td>\n",
       "      <td>0</td>\n",
       "      <td>0</td>\n",
       "    </tr>\n",
       "    <tr>\n",
       "      <th>4</th>\n",
       "      <td>GA</td>\n",
       "      <td>2014</td>\n",
       "      <td>Asthma mortality rate</td>\n",
       "      <td>58.0</td>\n",
       "      <td>13</td>\n",
       "      <td>13</td>\n",
       "      <td>10.808668</td>\n",
       "      <td>0</td>\n",
       "      <td>0</td>\n",
       "      <td>1</td>\n",
       "      <td>0</td>\n",
       "      <td>0</td>\n",
       "      <td>0</td>\n",
       "      <td>0</td>\n",
       "    </tr>\n",
       "  </tbody>\n",
       "</table>\n",
       "</div>\n",
       "      <button class=\"colab-df-convert\" onclick=\"convertToInteractive('df-e7df64f9-7d28-40dd-9c93-3bedd7431f08')\"\n",
       "              title=\"Convert this dataframe to an interactive table.\"\n",
       "              style=\"display:none;\">\n",
       "        \n",
       "  <svg xmlns=\"http://www.w3.org/2000/svg\" height=\"24px\"viewBox=\"0 0 24 24\"\n",
       "       width=\"24px\">\n",
       "    <path d=\"M0 0h24v24H0V0z\" fill=\"none\"/>\n",
       "    <path d=\"M18.56 5.44l.94 2.06.94-2.06 2.06-.94-2.06-.94-.94-2.06-.94 2.06-2.06.94zm-11 1L8.5 8.5l.94-2.06 2.06-.94-2.06-.94L8.5 2.5l-.94 2.06-2.06.94zm10 10l.94 2.06.94-2.06 2.06-.94-2.06-.94-.94-2.06-.94 2.06-2.06.94z\"/><path d=\"M17.41 7.96l-1.37-1.37c-.4-.4-.92-.59-1.43-.59-.52 0-1.04.2-1.43.59L10.3 9.45l-7.72 7.72c-.78.78-.78 2.05 0 2.83L4 21.41c.39.39.9.59 1.41.59.51 0 1.02-.2 1.41-.59l7.78-7.78 2.81-2.81c.8-.78.8-2.07 0-2.86zM5.41 20L4 18.59l7.72-7.72 1.47 1.35L5.41 20z\"/>\n",
       "  </svg>\n",
       "      </button>\n",
       "      \n",
       "  <style>\n",
       "    .colab-df-container {\n",
       "      display:flex;\n",
       "      flex-wrap:wrap;\n",
       "      gap: 12px;\n",
       "    }\n",
       "\n",
       "    .colab-df-convert {\n",
       "      background-color: #E8F0FE;\n",
       "      border: none;\n",
       "      border-radius: 50%;\n",
       "      cursor: pointer;\n",
       "      display: none;\n",
       "      fill: #1967D2;\n",
       "      height: 32px;\n",
       "      padding: 0 0 0 0;\n",
       "      width: 32px;\n",
       "    }\n",
       "\n",
       "    .colab-df-convert:hover {\n",
       "      background-color: #E2EBFA;\n",
       "      box-shadow: 0px 1px 2px rgba(60, 64, 67, 0.3), 0px 1px 3px 1px rgba(60, 64, 67, 0.15);\n",
       "      fill: #174EA6;\n",
       "    }\n",
       "\n",
       "    [theme=dark] .colab-df-convert {\n",
       "      background-color: #3B4455;\n",
       "      fill: #D2E3FC;\n",
       "    }\n",
       "\n",
       "    [theme=dark] .colab-df-convert:hover {\n",
       "      background-color: #434B5C;\n",
       "      box-shadow: 0px 1px 3px 1px rgba(0, 0, 0, 0.15);\n",
       "      filter: drop-shadow(0px 1px 2px rgba(0, 0, 0, 0.3));\n",
       "      fill: #FFFFFF;\n",
       "    }\n",
       "  </style>\n",
       "\n",
       "      <script>\n",
       "        const buttonEl =\n",
       "          document.querySelector('#df-e7df64f9-7d28-40dd-9c93-3bedd7431f08 button.colab-df-convert');\n",
       "        buttonEl.style.display =\n",
       "          google.colab.kernel.accessAllowed ? 'block' : 'none';\n",
       "\n",
       "        async function convertToInteractive(key) {\n",
       "          const element = document.querySelector('#df-e7df64f9-7d28-40dd-9c93-3bedd7431f08');\n",
       "          const dataTable =\n",
       "            await google.colab.kernel.invokeFunction('convertToInteractive',\n",
       "                                                     [key], {});\n",
       "          if (!dataTable) return;\n",
       "\n",
       "          const docLinkHtml = 'Like what you see? Visit the ' +\n",
       "            '<a target=\"_blank\" href=https://colab.research.google.com/notebooks/data_table.ipynb>data table notebook</a>'\n",
       "            + ' to learn more about interactive tables.';\n",
       "          element.innerHTML = '';\n",
       "          dataTable['output_type'] = 'display_data';\n",
       "          await google.colab.output.renderOutput(dataTable, element);\n",
       "          const docLink = document.createElement('div');\n",
       "          docLink.innerHTML = docLinkHtml;\n",
       "          element.appendChild(docLink);\n",
       "        }\n",
       "      </script>\n",
       "    </div>\n",
       "  </div>\n",
       "  "
      ],
      "text/plain": [
       "  LocationAbbr  YearStart               Question  DataValue  LocationID  \\\n",
       "0           AZ       2014  Asthma mortality rate       86.0           4   \n",
       "1           AZ       2014  Asthma mortality rate       33.0           4   \n",
       "2           AZ       2014  Asthma mortality rate       60.0           4   \n",
       "3           AZ       2014  Asthma mortality rate       53.0           4   \n",
       "4           GA       2014  Asthma mortality rate       58.0          13   \n",
       "\n",
       "   statefips  ds_pm_pred  Stratification1_Asian or Pacific Islander  \\\n",
       "0          4    7.573242                                          0   \n",
       "1          4    7.573242                                          0   \n",
       "2          4    7.573242                                          0   \n",
       "3          4    7.573242                                          0   \n",
       "4         13   10.808668                                          0   \n",
       "\n",
       "   Stratification1_Black, non-Hispanic  Stratification1_Female  \\\n",
       "0                                    0                       0   \n",
       "1                                    0                       0   \n",
       "2                                    0                       0   \n",
       "3                                    0                       1   \n",
       "4                                    0                       1   \n",
       "\n",
       "   Stratification1_Hispanic  Stratification1_Male  Stratification1_Overall  \\\n",
       "0                         0                     0                        1   \n",
       "1                         0                     1                        0   \n",
       "2                         0                     0                        0   \n",
       "3                         0                     0                        0   \n",
       "4                         0                     0                        0   \n",
       "\n",
       "   Stratification1_White, non-Hispanic  \n",
       "0                                    0  \n",
       "1                                    0  \n",
       "2                                    1  \n",
       "3                                    0  \n",
       "4                                    0  "
      ]
     },
     "execution_count": 36,
     "metadata": {},
     "output_type": "execute_result"
    }
   ],
   "source": [
    "df5.head()"
   ]
  },
  {
   "cell_type": "code",
   "execution_count": 19,
   "metadata": {
    "colab": {
     "base_uri": "https://localhost:8080/"
    },
    "id": "f1YNkwIqfGyP",
    "outputId": "0e4552c4-5178-4d89-81e0-a5d7d51c4c77"
   },
   "outputs": [
    {
     "data": {
      "text/plain": [
       "Index(['LocationAbbr', 'YearStart', 'Question', 'DataValue', 'LocationID',\n",
       "       'ds_pm_pred', 'Stratification1_Asian or Pacific Islander',\n",
       "       'Stratification1_Black, non-Hispanic', 'Stratification1_Female',\n",
       "       'Stratification1_Hispanic', 'Stratification1_Male',\n",
       "       'Stratification1_Overall', 'Stratification1_White, non-Hispanic'],\n",
       "      dtype='object')"
      ]
     },
     "execution_count": 19,
     "metadata": {},
     "output_type": "execute_result"
    }
   ],
   "source": [
    "df5.columns"
   ]
  },
  {
   "cell_type": "code",
   "execution_count": 20,
   "metadata": {
    "id": "XN4S4e6qfpwD"
   },
   "outputs": [],
   "source": [
    "filtered_columns = ['YearStart', 'DataValue', 'LocationID',\n",
    "       'ds_pm_pred', 'Stratification1_Asian or Pacific Islander',\n",
    "       'Stratification1_Black, non-Hispanic', 'Stratification1_Female',\n",
    "       'Stratification1_Hispanic', 'Stratification1_Male',\n",
    "       'Stratification1_Overall', 'Stratification1_White, non-Hispanic']"
   ]
  },
  {
   "cell_type": "code",
   "execution_count": 21,
   "metadata": {
    "id": "m9y_LCByg3H9"
   },
   "outputs": [],
   "source": [
    "x_columns = ['YearStart', 'LocationID',\n",
    "       'ds_pm_pred', 'Stratification1_Asian or Pacific Islander',\n",
    "       'Stratification1_Black, non-Hispanic', 'Stratification1_Female',\n",
    "       'Stratification1_Hispanic', 'Stratification1_Male',\n",
    "       'Stratification1_Overall', 'Stratification1_White, non-Hispanic']\n",
    "y_column = 'DataValue'"
   ]
  },
  {
   "cell_type": "code",
   "execution_count": 22,
   "metadata": {
    "colab": {
     "base_uri": "https://localhost:8080/",
     "height": 288
    },
    "id": "Z2ETdxf-gMNE",
    "outputId": "661c5d63-f4e1-460f-fa2f-319254c1b137"
   },
   "outputs": [
    {
     "data": {
      "text/html": [
       "<div>\n",
       "<style scoped>\n",
       "    .dataframe tbody tr th:only-of-type {\n",
       "        vertical-align: middle;\n",
       "    }\n",
       "\n",
       "    .dataframe tbody tr th {\n",
       "        vertical-align: top;\n",
       "    }\n",
       "\n",
       "    .dataframe thead th {\n",
       "        text-align: right;\n",
       "    }\n",
       "</style>\n",
       "<table border=\"1\" class=\"dataframe\">\n",
       "  <thead>\n",
       "    <tr style=\"text-align: right;\">\n",
       "      <th></th>\n",
       "      <th>YearStart</th>\n",
       "      <th>DataValue</th>\n",
       "      <th>LocationID</th>\n",
       "      <th>ds_pm_pred</th>\n",
       "      <th>Stratification1_Asian or Pacific Islander</th>\n",
       "      <th>Stratification1_Black, non-Hispanic</th>\n",
       "      <th>Stratification1_Female</th>\n",
       "      <th>Stratification1_Hispanic</th>\n",
       "      <th>Stratification1_Male</th>\n",
       "      <th>Stratification1_Overall</th>\n",
       "      <th>Stratification1_White, non-Hispanic</th>\n",
       "    </tr>\n",
       "  </thead>\n",
       "  <tbody>\n",
       "    <tr>\n",
       "      <th>0</th>\n",
       "      <td>2014</td>\n",
       "      <td>86.0</td>\n",
       "      <td>4</td>\n",
       "      <td>7.573242</td>\n",
       "      <td>0</td>\n",
       "      <td>0</td>\n",
       "      <td>0</td>\n",
       "      <td>0</td>\n",
       "      <td>0</td>\n",
       "      <td>1</td>\n",
       "      <td>0</td>\n",
       "    </tr>\n",
       "    <tr>\n",
       "      <th>1</th>\n",
       "      <td>2014</td>\n",
       "      <td>33.0</td>\n",
       "      <td>4</td>\n",
       "      <td>7.573242</td>\n",
       "      <td>0</td>\n",
       "      <td>0</td>\n",
       "      <td>0</td>\n",
       "      <td>0</td>\n",
       "      <td>1</td>\n",
       "      <td>0</td>\n",
       "      <td>0</td>\n",
       "    </tr>\n",
       "    <tr>\n",
       "      <th>2</th>\n",
       "      <td>2014</td>\n",
       "      <td>60.0</td>\n",
       "      <td>4</td>\n",
       "      <td>7.573242</td>\n",
       "      <td>0</td>\n",
       "      <td>0</td>\n",
       "      <td>0</td>\n",
       "      <td>0</td>\n",
       "      <td>0</td>\n",
       "      <td>0</td>\n",
       "      <td>1</td>\n",
       "    </tr>\n",
       "    <tr>\n",
       "      <th>3</th>\n",
       "      <td>2014</td>\n",
       "      <td>53.0</td>\n",
       "      <td>4</td>\n",
       "      <td>7.573242</td>\n",
       "      <td>0</td>\n",
       "      <td>0</td>\n",
       "      <td>1</td>\n",
       "      <td>0</td>\n",
       "      <td>0</td>\n",
       "      <td>0</td>\n",
       "      <td>0</td>\n",
       "    </tr>\n",
       "    <tr>\n",
       "      <th>4</th>\n",
       "      <td>2014</td>\n",
       "      <td>58.0</td>\n",
       "      <td>13</td>\n",
       "      <td>10.808668</td>\n",
       "      <td>0</td>\n",
       "      <td>0</td>\n",
       "      <td>1</td>\n",
       "      <td>0</td>\n",
       "      <td>0</td>\n",
       "      <td>0</td>\n",
       "      <td>0</td>\n",
       "    </tr>\n",
       "  </tbody>\n",
       "</table>\n",
       "</div>"
      ],
      "text/plain": [
       "   YearStart  DataValue  LocationID  ds_pm_pred  \\\n",
       "0       2014       86.0           4    7.573242   \n",
       "1       2014       33.0           4    7.573242   \n",
       "2       2014       60.0           4    7.573242   \n",
       "3       2014       53.0           4    7.573242   \n",
       "4       2014       58.0          13   10.808668   \n",
       "\n",
       "   Stratification1_Asian or Pacific Islander  \\\n",
       "0                                          0   \n",
       "1                                          0   \n",
       "2                                          0   \n",
       "3                                          0   \n",
       "4                                          0   \n",
       "\n",
       "   Stratification1_Black, non-Hispanic  Stratification1_Female  \\\n",
       "0                                    0                       0   \n",
       "1                                    0                       0   \n",
       "2                                    0                       0   \n",
       "3                                    0                       1   \n",
       "4                                    0                       1   \n",
       "\n",
       "   Stratification1_Hispanic  Stratification1_Male  Stratification1_Overall  \\\n",
       "0                         0                     0                        1   \n",
       "1                         0                     1                        0   \n",
       "2                         0                     0                        0   \n",
       "3                         0                     0                        0   \n",
       "4                         0                     0                        0   \n",
       "\n",
       "   Stratification1_White, non-Hispanic  \n",
       "0                                    0  \n",
       "1                                    0  \n",
       "2                                    1  \n",
       "3                                    0  \n",
       "4                                    0  "
      ]
     },
     "execution_count": 22,
     "metadata": {},
     "output_type": "execute_result"
    }
   ],
   "source": [
    "df6 = df5[filtered_columns]\n",
    "df6.head()"
   ]
  },
  {
   "cell_type": "code",
   "execution_count": 73,
   "metadata": {
    "id": "n832ahwrgO_c"
   },
   "outputs": [],
   "source": [
    "def plot_search_results(grid):\n",
    "    \"\"\"\n",
    "    Params: \n",
    "        grid: A trained GridSearchCV object.\n",
    "    \"\"\"\n",
    "    ## Results from grid search\n",
    "    results = grid.cv_results_\n",
    "    means_test = results['mean_test_score']\n",
    "    stds_test = results['std_test_score']\n",
    "    means_train = results['mean_train_score']\n",
    "    stds_train = results['std_train_score']\n",
    "\n",
    "    ## Getting indexes of values per hyper-parameter\n",
    "    masks=[]\n",
    "    masks_names= list(grid.best_params_.keys())\n",
    "    for p_k, p_v in grid.best_params_.items():\n",
    "        masks.append(list(results['param_'+p_k].data==p_v))\n",
    "\n",
    "    params=grid.param_grid\n",
    "\n",
    "    ## Ploting results\n",
    "    fig, ax = plt.subplots(1,len(params),sharex='none', sharey='all',figsize=(20,5))\n",
    "    fig.suptitle('Score per parameter')\n",
    "    fig.text(0.04, 0.5, 'MEAN SCORE', va='center', rotation='vertical')\n",
    "    pram_preformace_in_best = {}\n",
    "    for i, p in enumerate(masks_names):\n",
    "        m = np.stack(masks[:i] + masks[i+1:])\n",
    "        pram_preformace_in_best\n",
    "        best_parms_mask = m.all(axis=0)\n",
    "        best_index = np.where(best_parms_mask)[0]\n",
    "        x = np.array(params[p])\n",
    "        y_1 = np.array(means_test[best_index])\n",
    "        e_1 = np.array(stds_test[best_index])\n",
    "        y_2 = np.array(means_train[best_index])\n",
    "        e_2 = np.array(stds_train[best_index])\n",
    "        ax[i].errorbar(x, y_1, e_1, linestyle='--', marker='o', label='test')\n",
    "        ax[i].errorbar(x, y_2, e_2, linestyle='-', marker='^',label='train' )\n",
    "        ax[i].set_xlabel(p.upper())\n",
    "\n",
    "    plt.legend()\n",
    "    plt.show()"
   ]
  },
  {
   "cell_type": "code",
   "execution_count": 139,
   "metadata": {
    "id": "uqhGtY4ygf9X"
   },
   "outputs": [],
   "source": [
    "X = df6[x_columns]\n",
    "y = df6[y_column]\n",
    "X_train, X_test, y_train, y_test = train_test_split(\n",
    "    X,\n",
    "    y,\n",
    "    test_size=0.25,\n",
    "    random_state=0)"
   ]
  },
  {
   "cell_type": "markdown",
   "metadata": {},
   "source": [
    "### Random Forest Regressor"
   ]
  },
  {
   "cell_type": "code",
   "execution_count": 75,
   "metadata": {
    "id": "9qsXMN7Fg-VZ"
   },
   "outputs": [],
   "source": [
    "pipe = Pipeline([('classifier' , RandomForestRegressor())])"
   ]
  },
  {
   "cell_type": "code",
   "execution_count": 141,
   "metadata": {
    "id": "6D9Fu3EhhIhP"
   },
   "outputs": [],
   "source": [
    "n_estimators = [int(x) for x in np.linspace(start = 10, stop = 500, num = 10)]\n",
    "# Number of features to consider at every split\n",
    "max_features = ['auto', 'sqrt'] # ['auto', 'sqrt']\n",
    "# Maximum number of levels in tree\n",
    "max_depth = [int(x) for x in np.linspace(10, 110, num = 11)]\n",
    "# Minimum number of samples required to split a node\n",
    "min_samples_split = [2, 5, 10]\n",
    "# Minimum number of samples required at each leaf node\n",
    "min_samples_leaf = [1, 2, 4]\n",
    "# Method of selecting samples for training each tree\n",
    "bootstrap = [True, False]# Create the random grid\n",
    "\n",
    "param_grid = [\n",
    "    {'n_estimators' : n_estimators,\n",
    "    # 'max_depth' : max_depth,\n",
    "    'max_features' : max_features,\n",
    "    'min_samples_split' : min_samples_split,\n",
    "    'min_samples_leaf' : min_samples_leaf\n",
    "    }\n",
    "]"
   ]
  },
  {
   "cell_type": "code",
   "execution_count": 142,
   "metadata": {
    "id": "KYb9jXTbhJ5D"
   },
   "outputs": [],
   "source": [
    "clf = GridSearchCV(RandomForestRegressor(max_depth=100, bootstrap=True, max_features='auto'), \n",
    "                   param_grid = param_grid, \n",
    "                   cv = 5,\n",
    "                   verbose=10,\n",
    "                   return_train_score = True,\n",
    "                   n_jobs=14)"
   ]
  },
  {
   "cell_type": "code",
   "execution_count": 143,
   "metadata": {
    "colab": {
     "base_uri": "https://localhost:8080/",
     "height": 364
    },
    "id": "FAwTfWBkhxTQ",
    "outputId": "4a3f5a16-7bff-40df-a9fc-538dd380b5c9",
    "tags": []
   },
   "outputs": [
    {
     "name": "stdout",
     "output_type": "stream",
     "text": [
      "Fitting 5 folds for each of 180 candidates, totalling 900 fits\n"
     ]
    }
   ],
   "source": [
    "best_rf = clf.fit(X_train, y_train)"
   ]
  },
  {
   "cell_type": "code",
   "execution_count": 144,
   "metadata": {},
   "outputs": [
    {
     "name": "stdout",
     "output_type": "stream",
     "text": [
      "\n",
      "Best parameters set found over cross-validation:\n",
      "\n",
      "{'max_features': 'auto', 'min_samples_leaf': 1, 'min_samples_split': 2, 'n_estimators': 64}\n"
     ]
    }
   ],
   "source": [
    "print(\"\\nBest parameters set found over cross-validation:\\n\")\n",
    "print(best_rf.best_params_)"
   ]
  },
  {
   "cell_type": "code",
   "execution_count": 145,
   "metadata": {},
   "outputs": [],
   "source": [
    "best_rf_results = pd.DataFrame(best_rf.cv_results_)"
   ]
  },
  {
   "cell_type": "code",
   "execution_count": 146,
   "metadata": {},
   "outputs": [],
   "source": [
    "best_rf_results.to_csv('best_rf_results.csv')"
   ]
  },
  {
   "cell_type": "code",
   "execution_count": 121,
   "metadata": {
    "tags": []
   },
   "outputs": [
    {
     "data": {
      "text/plain": [
       "<AxesSubplot:title={'center':'Grid search results'}, xlabel='n_estimators', ylabel='Mean score'>"
      ]
     },
     "execution_count": 121,
     "metadata": {},
     "output_type": "execute_result"
    },
    {
     "data": {
      "image/png": "[encoded data removed]",
      "text/plain": [
       "<Figure size 432x288 with 1 Axes>"
      ]
     },
     "metadata": {
      "needs_background": "light"
     },
     "output_type": "display_data"
    }
   ],
   "source": [
    "plot.grid_search(best_rf.cv_results_, change='n_estimators', kind='bar')"
   ]
  },
  {
   "cell_type": "code",
   "execution_count": null,
   "metadata": {},
   "outputs": [],
   "source": [
    "best_rf_params = {'max_depth': 100, \n",
    "                  'max_features': 'auto',\n",
    "                  'min_samples_leaf': 1,\n",
    "                  'min_samples_split': 2,\n",
    "                  'n_estimators': 118}"
   ]
  },
  {
   "cell_type": "code",
   "execution_count": 124,
   "metadata": {},
   "outputs": [],
   "source": [
    "base_estimator = RandomForestRegressor(max_depth=110, n_estimators=118, bootstrap=True, max_features='auto', min_samples_leaf=1, min_samples_split=2)"
   ]
  },
  {
   "cell_type": "code",
   "execution_count": 31,
   "metadata": {},
   "outputs": [
    {
     "data": {
      "text/plain": [
       "RandomForestRegressor(max_depth=110, n_estimators=10)"
      ]
     },
     "execution_count": 31,
     "metadata": {},
     "output_type": "execute_result"
    }
   ],
   "source": [
    "best_rf.fit(X_train, y_train)"
   ]
  },
  {
   "cell_type": "code",
   "execution_count": 32,
   "metadata": {
    "id": "Xn1bcOOSixil"
   },
   "outputs": [],
   "source": [
    "y_pred = best_rf.predict(X_test)"
   ]
  },
  {
   "cell_type": "code",
   "execution_count": 122,
   "metadata": {
    "id": "WWb-JHVjh-kB"
   },
   "outputs": [
    {
     "name": "stdout",
     "output_type": "stream",
     "text": [
      "Mean Absolute Error: 14.643137254901962\n",
      "Mean Squared Error: 426.6116339869282\n",
      "Root Mean Squared Error: 20.654579007738896\n"
     ]
    }
   ],
   "source": [
    "print('Mean Absolute Error:', metrics.mean_absolute_error(y_test, y_pred))\n",
    "print('Mean Squared Error:', metrics.mean_squared_error(y_test, y_pred))\n",
    "print('Root Mean Squared Error:', np.sqrt(metrics.mean_squared_error(y_test, y_pred)))"
   ]
  },
  {
   "cell_type": "markdown",
   "metadata": {
    "id": "m1VquBtVi305"
   },
   "source": [
    "### ADABoost Regressor"
   ]
  },
  {
   "cell_type": "code",
   "execution_count": null,
   "metadata": {},
   "outputs": [],
   "source": []
  },
  {
   "cell_type": "code",
   "execution_count": 129,
   "metadata": {},
   "outputs": [],
   "source": [
    "best_rf = RandomForestRegressor(max_depth=110, n_estimators=10, bootstrap=True, max_features='auto')"
   ]
  },
  {
   "cell_type": "code",
   "execution_count": 130,
   "metadata": {},
   "outputs": [],
   "source": [
    "pipe = Pipeline([('classifier' , AdaBoostRegressor(base_estimator = base_estimator))])\n",
    "                 \n",
    "param_grid = {\"classifier__n_estimators\": [int(x) for x in np.linspace(start = 10, stop = 500, num = 10)],\n",
    "              \"classifier__learning_rate\": [0.01, 0.1, 0.5, 0.8, 1]\n",
    "             }"
   ]
  },
  {
   "cell_type": "code",
   "execution_count": 131,
   "metadata": {},
   "outputs": [],
   "source": [
    "clf = GridSearchCV(pipe, \n",
    "                   param_grid = param_grid, \n",
    "                   cv = 5,\n",
    "                   return_train_score = True,\n",
    "                   verbose=10,\n",
    "                   n_jobs=14)"
   ]
  },
  {
   "cell_type": "code",
   "execution_count": 132,
   "metadata": {},
   "outputs": [
    {
     "name": "stdout",
     "output_type": "stream",
     "text": [
      "Fitting 5 folds for each of 50 candidates, totalling 250 fits\n"
     ]
    }
   ],
   "source": [
    "best_clf = clf.fit(X_train, y_train)"
   ]
  },
  {
   "cell_type": "code",
   "execution_count": 133,
   "metadata": {},
   "outputs": [
    {
     "name": "stdout",
     "output_type": "stream",
     "text": [
      "\n",
      "Best parameters set found over cross-validation:\n",
      "\n",
      "{'classifier__learning_rate': 0.5, 'classifier__n_estimators': 118}\n"
     ]
    }
   ],
   "source": [
    "print(\"\\nBest parameters set found over cross-validation:\\n\")\n",
    "print(best_clf.best_params_)"
   ]
  },
  {
   "cell_type": "code",
   "execution_count": null,
   "metadata": {},
   "outputs": [],
   "source": [
    "best_abr_params = {'classifier__learning_rate': 0.5, 'classifier__n_estimators': 118}"
   ]
  },
  {
   "cell_type": "code",
   "execution_count": 134,
   "metadata": {},
   "outputs": [],
   "source": [
    "y_pred = best_clf.predict(X_test)"
   ]
  },
  {
   "cell_type": "code",
   "execution_count": 135,
   "metadata": {},
   "outputs": [
    {
     "name": "stdout",
     "output_type": "stream",
     "text": [
      "Mean Absolute Error: 15.374210701229643\n",
      "Mean Squared Error: 470.1464035389125\n",
      "Root Mean Squared Error: 21.682859671614178\n"
     ]
    }
   ],
   "source": [
    "print('Mean Absolute Error:', metrics.mean_absolute_error(y_test, y_pred))\n",
    "print('Mean Squared Error:', metrics.mean_squared_error(y_test, y_pred))\n",
    "print('Root Mean Squared Error:', np.sqrt(metrics.mean_squared_error(y_test, y_pred)))"
   ]
  },
  {
   "cell_type": "code",
   "execution_count": 137,
   "metadata": {},
   "outputs": [],
   "source": [
    "abr_grid_results = pd.DataFrame(best_clf.cv_results_)"
   ]
  },
  {
   "cell_type": "code",
   "execution_count": 138,
   "metadata": {},
   "outputs": [],
   "source": [
    "abr_grid_results.to_csv('abr_grid_results.csv')"
   ]
  },
  {
   "cell_type": "markdown",
   "metadata": {},
   "source": [
    "### Evaluating Models"
   ]
  },
  {
   "cell_type": "code",
   "execution_count": 215,
   "metadata": {},
   "outputs": [
    {
     "data": {
      "text/plain": [
       "['best_rf.pkl']"
      ]
     },
     "execution_count": 215,
     "metadata": {},
     "output_type": "execute_result"
    }
   ],
   "source": [
    "import joblib\n",
    "\n",
    "#save your model or results\n",
    "joblib.dump(best_rf, 'best_rf.pkl')"
   ]
  },
  {
   "cell_type": "code",
   "execution_count": null,
   "metadata": {},
   "outputs": [],
   "source": [
    "# joblib.load('best_rf.pkl')"
   ]
  },
  {
   "cell_type": "code",
   "execution_count": 156,
   "metadata": {},
   "outputs": [
    {
     "data": {
      "text/html": [
       "<div>\n",
       "<style scoped>\n",
       "    .dataframe tbody tr th:only-of-type {\n",
       "        vertical-align: middle;\n",
       "    }\n",
       "\n",
       "    .dataframe tbody tr th {\n",
       "        vertical-align: top;\n",
       "    }\n",
       "\n",
       "    .dataframe thead th {\n",
       "        text-align: right;\n",
       "    }\n",
       "</style>\n",
       "<table border=\"1\" class=\"dataframe\">\n",
       "  <thead>\n",
       "    <tr style=\"text-align: right;\">\n",
       "      <th></th>\n",
       "      <th>mean_fit_time</th>\n",
       "      <th>std_fit_time</th>\n",
       "      <th>mean_score_time</th>\n",
       "      <th>std_score_time</th>\n",
       "      <th>param_max_features</th>\n",
       "      <th>param_min_samples_leaf</th>\n",
       "      <th>param_min_samples_split</th>\n",
       "      <th>param_n_estimators</th>\n",
       "      <th>params</th>\n",
       "      <th>split0_test_score</th>\n",
       "      <th>split1_test_score</th>\n",
       "      <th>split2_test_score</th>\n",
       "      <th>split3_test_score</th>\n",
       "      <th>split4_test_score</th>\n",
       "      <th>mean_test_score</th>\n",
       "      <th>std_test_score</th>\n",
       "      <th>rank_test_score</th>\n",
       "      <th>split0_train_score</th>\n",
       "      <th>split1_train_score</th>\n",
       "      <th>split2_train_score</th>\n",
       "      <th>split3_train_score</th>\n",
       "      <th>split4_train_score</th>\n",
       "      <th>mean_train_score</th>\n",
       "      <th>std_train_score</th>\n",
       "    </tr>\n",
       "  </thead>\n",
       "  <tbody>\n",
       "    <tr>\n",
       "      <th>0</th>\n",
       "      <td>0.014002</td>\n",
       "      <td>0.001643</td>\n",
       "      <td>0.002300</td>\n",
       "      <td>0.000678</td>\n",
       "      <td>auto</td>\n",
       "      <td>1</td>\n",
       "      <td>2</td>\n",
       "      <td>10</td>\n",
       "      <td>{'max_features': 'auto', 'min_samples_leaf': 1...</td>\n",
       "      <td>0.524990</td>\n",
       "      <td>0.587494</td>\n",
       "      <td>0.346337</td>\n",
       "      <td>0.309160</td>\n",
       "      <td>0.694957</td>\n",
       "      <td>0.492588</td>\n",
       "      <td>0.145633</td>\n",
       "      <td>19</td>\n",
       "      <td>0.892353</td>\n",
       "      <td>0.853066</td>\n",
       "      <td>0.940620</td>\n",
       "      <td>0.892399</td>\n",
       "      <td>0.902434</td>\n",
       "      <td>0.896174</td>\n",
       "      <td>0.027935</td>\n",
       "    </tr>\n",
       "    <tr>\n",
       "      <th>1</th>\n",
       "      <td>0.082014</td>\n",
       "      <td>0.009604</td>\n",
       "      <td>0.007602</td>\n",
       "      <td>0.001200</td>\n",
       "      <td>auto</td>\n",
       "      <td>1</td>\n",
       "      <td>2</td>\n",
       "      <td>64</td>\n",
       "      <td>{'max_features': 'auto', 'min_samples_leaf': 1...</td>\n",
       "      <td>0.693810</td>\n",
       "      <td>0.722043</td>\n",
       "      <td>0.302439</td>\n",
       "      <td>0.560887</td>\n",
       "      <td>0.651947</td>\n",
       "      <td>0.586225</td>\n",
       "      <td>0.151998</td>\n",
       "      <td>1</td>\n",
       "      <td>0.931300</td>\n",
       "      <td>0.921170</td>\n",
       "      <td>0.958897</td>\n",
       "      <td>0.941607</td>\n",
       "      <td>0.924896</td>\n",
       "      <td>0.935574</td>\n",
       "      <td>0.013565</td>\n",
       "    </tr>\n",
       "    <tr>\n",
       "      <th>2</th>\n",
       "      <td>0.140224</td>\n",
       "      <td>0.007367</td>\n",
       "      <td>0.010502</td>\n",
       "      <td>0.001924</td>\n",
       "      <td>auto</td>\n",
       "      <td>1</td>\n",
       "      <td>2</td>\n",
       "      <td>118</td>\n",
       "      <td>{'max_features': 'auto', 'min_samples_leaf': 1...</td>\n",
       "      <td>0.670215</td>\n",
       "      <td>0.710358</td>\n",
       "      <td>0.288947</td>\n",
       "      <td>0.536231</td>\n",
       "      <td>0.623710</td>\n",
       "      <td>0.565892</td>\n",
       "      <td>0.150117</td>\n",
       "      <td>9</td>\n",
       "      <td>0.929917</td>\n",
       "      <td>0.920459</td>\n",
       "      <td>0.959503</td>\n",
       "      <td>0.944707</td>\n",
       "      <td>0.910963</td>\n",
       "      <td>0.933110</td>\n",
       "      <td>0.017273</td>\n",
       "    </tr>\n",
       "    <tr>\n",
       "      <th>3</th>\n",
       "      <td>0.210136</td>\n",
       "      <td>0.004843</td>\n",
       "      <td>0.013102</td>\n",
       "      <td>0.002059</td>\n",
       "      <td>auto</td>\n",
       "      <td>1</td>\n",
       "      <td>2</td>\n",
       "      <td>173</td>\n",
       "      <td>{'max_features': 'auto', 'min_samples_leaf': 1...</td>\n",
       "      <td>0.710723</td>\n",
       "      <td>0.737243</td>\n",
       "      <td>0.294123</td>\n",
       "      <td>0.521450</td>\n",
       "      <td>0.633585</td>\n",
       "      <td>0.579425</td>\n",
       "      <td>0.161144</td>\n",
       "      <td>4</td>\n",
       "      <td>0.937318</td>\n",
       "      <td>0.933563</td>\n",
       "      <td>0.957635</td>\n",
       "      <td>0.941659</td>\n",
       "      <td>0.922482</td>\n",
       "      <td>0.938531</td>\n",
       "      <td>0.011476</td>\n",
       "    </tr>\n",
       "    <tr>\n",
       "      <th>4</th>\n",
       "      <td>0.257245</td>\n",
       "      <td>0.006639</td>\n",
       "      <td>0.015603</td>\n",
       "      <td>0.002538</td>\n",
       "      <td>auto</td>\n",
       "      <td>1</td>\n",
       "      <td>2</td>\n",
       "      <td>227</td>\n",
       "      <td>{'max_features': 'auto', 'min_samples_leaf': 1...</td>\n",
       "      <td>0.655787</td>\n",
       "      <td>0.750380</td>\n",
       "      <td>0.271016</td>\n",
       "      <td>0.538139</td>\n",
       "      <td>0.653873</td>\n",
       "      <td>0.573839</td>\n",
       "      <td>0.165689</td>\n",
       "      <td>6</td>\n",
       "      <td>0.926227</td>\n",
       "      <td>0.930305</td>\n",
       "      <td>0.955435</td>\n",
       "      <td>0.940241</td>\n",
       "      <td>0.919752</td>\n",
       "      <td>0.934392</td>\n",
       "      <td>0.012448</td>\n",
       "    </tr>\n",
       "  </tbody>\n",
       "</table>\n",
       "</div>"
      ],
      "text/plain": [
       "   mean_fit_time  std_fit_time  mean_score_time  std_score_time  \\\n",
       "0       0.014002      0.001643         0.002300        0.000678   \n",
       "1       0.082014      0.009604         0.007602        0.001200   \n",
       "2       0.140224      0.007367         0.010502        0.001924   \n",
       "3       0.210136      0.004843         0.013102        0.002059   \n",
       "4       0.257245      0.006639         0.015603        0.002538   \n",
       "\n",
       "  param_max_features param_min_samples_leaf param_min_samples_split  \\\n",
       "0               auto                      1                       2   \n",
       "1               auto                      1                       2   \n",
       "2               auto                      1                       2   \n",
       "3               auto                      1                       2   \n",
       "4               auto                      1                       2   \n",
       "\n",
       "  param_n_estimators                                             params  \\\n",
       "0                 10  {'max_features': 'auto', 'min_samples_leaf': 1...   \n",
       "1                 64  {'max_features': 'auto', 'min_samples_leaf': 1...   \n",
       "2                118  {'max_features': 'auto', 'min_samples_leaf': 1...   \n",
       "3                173  {'max_features': 'auto', 'min_samples_leaf': 1...   \n",
       "4                227  {'max_features': 'auto', 'min_samples_leaf': 1...   \n",
       "\n",
       "   split0_test_score  split1_test_score  split2_test_score  split3_test_score  \\\n",
       "0           0.524990           0.587494           0.346337           0.309160   \n",
       "1           0.693810           0.722043           0.302439           0.560887   \n",
       "2           0.670215           0.710358           0.288947           0.536231   \n",
       "3           0.710723           0.737243           0.294123           0.521450   \n",
       "4           0.655787           0.750380           0.271016           0.538139   \n",
       "\n",
       "   split4_test_score  mean_test_score  std_test_score  rank_test_score  \\\n",
       "0           0.694957         0.492588        0.145633               19   \n",
       "1           0.651947         0.586225        0.151998                1   \n",
       "2           0.623710         0.565892        0.150117                9   \n",
       "3           0.633585         0.579425        0.161144                4   \n",
       "4           0.653873         0.573839        0.165689                6   \n",
       "\n",
       "   split0_train_score  split1_train_score  split2_train_score  \\\n",
       "0            0.892353            0.853066            0.940620   \n",
       "1            0.931300            0.921170            0.958897   \n",
       "2            0.929917            0.920459            0.959503   \n",
       "3            0.937318            0.933563            0.957635   \n",
       "4            0.926227            0.930305            0.955435   \n",
       "\n",
       "   split3_train_score  split4_train_score  mean_train_score  std_train_score  \n",
       "0            0.892399            0.902434          0.896174         0.027935  \n",
       "1            0.941607            0.924896          0.935574         0.013565  \n",
       "2            0.944707            0.910963          0.933110         0.017273  \n",
       "3            0.941659            0.922482          0.938531         0.011476  \n",
       "4            0.940241            0.919752          0.934392         0.012448  "
      ]
     },
     "execution_count": 156,
     "metadata": {},
     "output_type": "execute_result"
    }
   ],
   "source": [
    "best_rf_results.head()"
   ]
  },
  {
   "cell_type": "code",
   "execution_count": 209,
   "metadata": {},
   "outputs": [
    {
     "data": {
      "text/plain": [
       "<AxesSubplot:title={'center':'Grid search results'}, xlabel='n_estimators', ylabel='Mean score'>"
      ]
     },
     "execution_count": 209,
     "metadata": {},
     "output_type": "execute_result"
    },
    {
     "data": {
      "image/png": "[encoded data removed]",
      "text/plain": [
       "<Figure size 2160x1080 with 1 Axes>"
      ]
     },
     "metadata": {
      "needs_background": "light"
     },
     "output_type": "display_data"
    }
   ],
   "source": [
    "fig = plt.figure(figsize=(30,15))\n",
    "plot.grid_search(best_rf.cv_results_, change='n_estimators', kind='bar')"
   ]
  },
  {
   "cell_type": "code",
   "execution_count": 201,
   "metadata": {},
   "outputs": [
    {
     "name": "stderr",
     "output_type": "stream",
     "text": [
      "C:\\Users\\afros\\AppData\\Local\\Temp\\ipykernel_59012\\1910020440.py:2: MatplotlibDeprecationWarning: Calling add_axes() without argument is deprecated since 3.3 and will be removed two minor releases later. You may want to use add_subplot() instead.\n",
      "  ax = fig.add_axes()\n"
     ]
    },
    {
     "data": {
      "text/plain": [
       "<AxesSubplot:xlabel='Num. Estimators', ylabel='Mean Train Score'>"
      ]
     },
     "execution_count": 201,
     "metadata": {},
     "output_type": "execute_result"
    },
    {
     "data": {
      "text/plain": [
       "<Figure size 720x360 with 0 Axes>"
      ]
     },
     "metadata": {},
     "output_type": "display_data"
    },
    {
     "data": {
      "image/png": "[encoded data removed]",
      "text/plain": [
       "<Figure size 432x288 with 1 Axes>"
      ]
     },
     "metadata": {
      "needs_background": "light"
     },
     "output_type": "display_data"
    },
    {
     "data": {
      "image/png": "[encoded data removed]",
      "text/plain": [
       "<Figure size 432x288 with 1 Axes>"
      ]
     },
     "metadata": {
      "needs_background": "light"
     },
     "output_type": "display_data"
    }
   ],
   "source": [
    "fig = plt.figure(figsize=(10,5))\n",
    "ax = fig.add_axes()\n",
    "\n",
    "best_rf_results.plot(kind='bar', x='param_n_estimators', y='mean_train_score', \n",
    "                     stacked=False, xticks=[10, 100, 150, 200],\n",
    "                    xlabel='Num. Estimators',\n",
    "                    ylabel='Mean Train Score')\n",
    "best_rf_results.plot(kind='bar', x='param_n_estimators', y='mean_test_score', \n",
    "                     stacked=False, xticks=[10, 100, 150, 200],\n",
    "                    xlabel='Num. Estimators',\n",
    "                     ylabel='Mean Train Score'\n",
    "                    )"
   ]
  },
  {
   "cell_type": "code",
   "execution_count": 175,
   "metadata": {},
   "outputs": [
    {
     "data": {
      "text/html": [
       "<div>\n",
       "<style scoped>\n",
       "    .dataframe tbody tr th:only-of-type {\n",
       "        vertical-align: middle;\n",
       "    }\n",
       "\n",
       "    .dataframe tbody tr th {\n",
       "        vertical-align: top;\n",
       "    }\n",
       "\n",
       "    .dataframe thead th {\n",
       "        text-align: right;\n",
       "    }\n",
       "</style>\n",
       "<table border=\"1\" class=\"dataframe\">\n",
       "  <thead>\n",
       "    <tr style=\"text-align: right;\">\n",
       "      <th></th>\n",
       "      <th>mean_fit_time</th>\n",
       "      <th>std_fit_time</th>\n",
       "      <th>mean_score_time</th>\n",
       "      <th>std_score_time</th>\n",
       "      <th>param_classifier__learning_rate</th>\n",
       "      <th>param_classifier__n_estimators</th>\n",
       "      <th>params</th>\n",
       "      <th>split0_test_score</th>\n",
       "      <th>split1_test_score</th>\n",
       "      <th>split2_test_score</th>\n",
       "      <th>split3_test_score</th>\n",
       "      <th>split4_test_score</th>\n",
       "      <th>mean_test_score</th>\n",
       "      <th>std_test_score</th>\n",
       "      <th>rank_test_score</th>\n",
       "      <th>split0_train_score</th>\n",
       "      <th>split1_train_score</th>\n",
       "      <th>split2_train_score</th>\n",
       "      <th>split3_train_score</th>\n",
       "      <th>split4_train_score</th>\n",
       "      <th>mean_train_score</th>\n",
       "      <th>std_train_score</th>\n",
       "    </tr>\n",
       "  </thead>\n",
       "  <tbody>\n",
       "    <tr>\n",
       "      <th>0</th>\n",
       "      <td>1.324331</td>\n",
       "      <td>0.017049</td>\n",
       "      <td>0.071613</td>\n",
       "      <td>0.005390</td>\n",
       "      <td>0.01</td>\n",
       "      <td>10</td>\n",
       "      <td>{'classifier__learning_rate': 0.01, 'classifie...</td>\n",
       "      <td>0.611960</td>\n",
       "      <td>0.691535</td>\n",
       "      <td>0.277179</td>\n",
       "      <td>0.378357</td>\n",
       "      <td>0.562647</td>\n",
       "      <td>0.504335</td>\n",
       "      <td>0.153295</td>\n",
       "      <td>50</td>\n",
       "      <td>0.895221</td>\n",
       "      <td>0.898721</td>\n",
       "      <td>0.923515</td>\n",
       "      <td>0.896939</td>\n",
       "      <td>0.880245</td>\n",
       "      <td>0.898928</td>\n",
       "      <td>0.013938</td>\n",
       "    </tr>\n",
       "    <tr>\n",
       "      <th>1</th>\n",
       "      <td>8.635001</td>\n",
       "      <td>0.043114</td>\n",
       "      <td>0.441377</td>\n",
       "      <td>0.009990</td>\n",
       "      <td>0.01</td>\n",
       "      <td>64</td>\n",
       "      <td>{'classifier__learning_rate': 0.01, 'classifie...</td>\n",
       "      <td>0.658172</td>\n",
       "      <td>0.724588</td>\n",
       "      <td>0.290257</td>\n",
       "      <td>0.480493</td>\n",
       "      <td>0.591179</td>\n",
       "      <td>0.548938</td>\n",
       "      <td>0.152427</td>\n",
       "      <td>48</td>\n",
       "      <td>0.937193</td>\n",
       "      <td>0.940592</td>\n",
       "      <td>0.963224</td>\n",
       "      <td>0.947430</td>\n",
       "      <td>0.934325</td>\n",
       "      <td>0.944553</td>\n",
       "      <td>0.010309</td>\n",
       "    </tr>\n",
       "    <tr>\n",
       "      <th>2</th>\n",
       "      <td>15.900865</td>\n",
       "      <td>0.065873</td>\n",
       "      <td>0.846147</td>\n",
       "      <td>0.023300</td>\n",
       "      <td>0.01</td>\n",
       "      <td>118</td>\n",
       "      <td>{'classifier__learning_rate': 0.01, 'classifie...</td>\n",
       "      <td>0.745365</td>\n",
       "      <td>0.735939</td>\n",
       "      <td>0.311405</td>\n",
       "      <td>0.532631</td>\n",
       "      <td>0.674019</td>\n",
       "      <td>0.599872</td>\n",
       "      <td>0.163043</td>\n",
       "      <td>47</td>\n",
       "      <td>0.956751</td>\n",
       "      <td>0.952744</td>\n",
       "      <td>0.967958</td>\n",
       "      <td>0.959966</td>\n",
       "      <td>0.948947</td>\n",
       "      <td>0.957273</td>\n",
       "      <td>0.006504</td>\n",
       "    </tr>\n",
       "    <tr>\n",
       "      <th>3</th>\n",
       "      <td>23.194633</td>\n",
       "      <td>0.169942</td>\n",
       "      <td>1.352135</td>\n",
       "      <td>0.037919</td>\n",
       "      <td>0.01</td>\n",
       "      <td>173</td>\n",
       "      <td>{'classifier__learning_rate': 0.01, 'classifie...</td>\n",
       "      <td>0.760954</td>\n",
       "      <td>0.770923</td>\n",
       "      <td>0.318539</td>\n",
       "      <td>0.563265</td>\n",
       "      <td>0.688731</td>\n",
       "      <td>0.620482</td>\n",
       "      <td>0.168206</td>\n",
       "      <td>46</td>\n",
       "      <td>0.962256</td>\n",
       "      <td>0.963286</td>\n",
       "      <td>0.972611</td>\n",
       "      <td>0.966879</td>\n",
       "      <td>0.957227</td>\n",
       "      <td>0.964452</td>\n",
       "      <td>0.005116</td>\n",
       "    </tr>\n",
       "    <tr>\n",
       "      <th>4</th>\n",
       "      <td>30.542511</td>\n",
       "      <td>0.186268</td>\n",
       "      <td>1.664789</td>\n",
       "      <td>0.022472</td>\n",
       "      <td>0.01</td>\n",
       "      <td>227</td>\n",
       "      <td>{'classifier__learning_rate': 0.01, 'classifie...</td>\n",
       "      <td>0.780568</td>\n",
       "      <td>0.772665</td>\n",
       "      <td>0.344230</td>\n",
       "      <td>0.590857</td>\n",
       "      <td>0.718499</td>\n",
       "      <td>0.641364</td>\n",
       "      <td>0.163344</td>\n",
       "      <td>45</td>\n",
       "      <td>0.967485</td>\n",
       "      <td>0.971581</td>\n",
       "      <td>0.976340</td>\n",
       "      <td>0.972435</td>\n",
       "      <td>0.963805</td>\n",
       "      <td>0.970329</td>\n",
       "      <td>0.004308</td>\n",
       "    </tr>\n",
       "  </tbody>\n",
       "</table>\n",
       "</div>"
      ],
      "text/plain": [
       "   mean_fit_time  std_fit_time  mean_score_time  std_score_time  \\\n",
       "0       1.324331      0.017049         0.071613        0.005390   \n",
       "1       8.635001      0.043114         0.441377        0.009990   \n",
       "2      15.900865      0.065873         0.846147        0.023300   \n",
       "3      23.194633      0.169942         1.352135        0.037919   \n",
       "4      30.542511      0.186268         1.664789        0.022472   \n",
       "\n",
       "  param_classifier__learning_rate param_classifier__n_estimators  \\\n",
       "0                            0.01                             10   \n",
       "1                            0.01                             64   \n",
       "2                            0.01                            118   \n",
       "3                            0.01                            173   \n",
       "4                            0.01                            227   \n",
       "\n",
       "                                              params  split0_test_score  \\\n",
       "0  {'classifier__learning_rate': 0.01, 'classifie...           0.611960   \n",
       "1  {'classifier__learning_rate': 0.01, 'classifie...           0.658172   \n",
       "2  {'classifier__learning_rate': 0.01, 'classifie...           0.745365   \n",
       "3  {'classifier__learning_rate': 0.01, 'classifie...           0.760954   \n",
       "4  {'classifier__learning_rate': 0.01, 'classifie...           0.780568   \n",
       "\n",
       "   split1_test_score  split2_test_score  split3_test_score  split4_test_score  \\\n",
       "0           0.691535           0.277179           0.378357           0.562647   \n",
       "1           0.724588           0.290257           0.480493           0.591179   \n",
       "2           0.735939           0.311405           0.532631           0.674019   \n",
       "3           0.770923           0.318539           0.563265           0.688731   \n",
       "4           0.772665           0.344230           0.590857           0.718499   \n",
       "\n",
       "   mean_test_score  std_test_score  rank_test_score  split0_train_score  \\\n",
       "0         0.504335        0.153295               50            0.895221   \n",
       "1         0.548938        0.152427               48            0.937193   \n",
       "2         0.599872        0.163043               47            0.956751   \n",
       "3         0.620482        0.168206               46            0.962256   \n",
       "4         0.641364        0.163344               45            0.967485   \n",
       "\n",
       "   split1_train_score  split2_train_score  split3_train_score  \\\n",
       "0            0.898721            0.923515            0.896939   \n",
       "1            0.940592            0.963224            0.947430   \n",
       "2            0.952744            0.967958            0.959966   \n",
       "3            0.963286            0.972611            0.966879   \n",
       "4            0.971581            0.976340            0.972435   \n",
       "\n",
       "   split4_train_score  mean_train_score  std_train_score  \n",
       "0            0.880245          0.898928         0.013938  \n",
       "1            0.934325          0.944553         0.010309  \n",
       "2            0.948947          0.957273         0.006504  \n",
       "3            0.957227          0.964452         0.005116  \n",
       "4            0.963805          0.970329         0.004308  "
      ]
     },
     "execution_count": 175,
     "metadata": {},
     "output_type": "execute_result"
    }
   ],
   "source": [
    "abr_grid_results.head()"
   ]
  },
  {
   "cell_type": "code",
   "execution_count": 206,
   "metadata": {},
   "outputs": [
    {
     "name": "stderr",
     "output_type": "stream",
     "text": [
      "C:\\Users\\afros\\AppData\\Local\\Temp\\ipykernel_59012\\921494291.py:2: MatplotlibDeprecationWarning: Calling add_axes() without argument is deprecated since 3.3 and will be removed two minor releases later. You may want to use add_subplot() instead.\n",
      "  ax = fig.add_axes()\n",
      "C:\\Users\\afros\\anaconda3\\lib\\site-packages\\pandas\\core\\indexes\\base.py:6982: FutureWarning: In a future version, the Index constructor will not infer numeric dtypes when passed object-dtype sequences (matching Series behavior)\n",
      "  return Index(sequences[0], name=names)\n"
     ]
    },
    {
     "data": {
      "text/plain": [
       "<AxesSubplot:xlabel='Num. Estimators', ylabel='Mean Train Score'>"
      ]
     },
     "execution_count": 206,
     "metadata": {},
     "output_type": "execute_result"
    },
    {
     "data": {
      "text/plain": [
       "<Figure size 720x360 with 0 Axes>"
      ]
     },
     "metadata": {},
     "output_type": "display_data"
    },
    {
     "data": {
      "image/png": "[encoded data removed]",
      "text/plain": [
       "<Figure size 432x288 with 1 Axes>"
      ]
     },
     "metadata": {
      "needs_background": "light"
     },
     "output_type": "display_data"
    },
    {
     "data": {
      "image/png": "[encoded data removed]",
      "text/plain": [
       "<Figure size 432x288 with 1 Axes>"
      ]
     },
     "metadata": {
      "needs_background": "light"
     },
     "output_type": "display_data"
    }
   ],
   "source": [
    "fig = plt.figure(figsize=(10,5))\n",
    "ax = fig.add_axes()\n",
    "\n",
    "abr_grid_results.plot(kind='bar', x='param_classifier__n_estimators', y='mean_train_score', \n",
    "                     stacked=False,\n",
    "                    xlabel='Num. Estimators',\n",
    "                    ylabel='Mean Train Score')\n",
    "abr_grid_results.plot(kind='bar', x='param_classifier__n_estimators', y='mean_test_score', \n",
    "                     stacked=False,\n",
    "                    xlabel='Num. Estimators',\n",
    "                     ylabel='Mean Train Score'\n",
    "                    )"
   ]
  },
  {
   "cell_type": "code",
   "execution_count": 214,
   "metadata": {},
   "outputs": [
    {
     "data": {
      "text/plain": [
       "<AxesSubplot:title={'center':'Grid search results'}, xlabel='classifier__n_estimators', ylabel='Mean score'>"
      ]
     },
     "execution_count": 214,
     "metadata": {},
     "output_type": "execute_result"
    },
    {
     "data": {
      "image/png": "[encoded data removed]",
      "text/plain": [
       "<Figure size 2160x1080 with 1 Axes>"
      ]
     },
     "metadata": {
      "needs_background": "light"
     },
     "output_type": "display_data"
    }
   ],
   "source": [
    "fig = plt.figure(figsize=(30,15))\n",
    "plot.grid_search(best_clf.cv_results_, change='classifier__n_estimators', kind='bar')"
   ]
  },
  {
   "cell_type": "code",
   "execution_count": 216,
   "metadata": {},
   "outputs": [
    {
     "data": {
      "text/plain": [
       "['best_clf.pkl']"
      ]
     },
     "execution_count": 216,
     "metadata": {},
     "output_type": "execute_result"
    }
   ],
   "source": [
    "joblib.dump(best_clf, 'best_clf.pkl')"
   ]
  },
  {
   "cell_type": "code",
   "execution_count": 217,
   "metadata": {},
   "outputs": [],
   "source": [
    "# joblib.load('best_clf.pkl')"
   ]
  },
  {
   "cell_type": "code",
   "execution_count": 218,
   "metadata": {},
   "outputs": [],
   "source": [
    "y_pred = best_rf.predict(X_test)"
   ]
  },
  {
   "cell_type": "code",
   "execution_count": 219,
   "metadata": {},
   "outputs": [
    {
     "name": "stdout",
     "output_type": "stream",
     "text": [
      "Mean Absolute Error: 16.73406862745098\n",
      "Mean Squared Error: 599.0229204963235\n",
      "Root Mean Squared Error: 24.474944749607168\n"
     ]
    }
   ],
   "source": [
    "print('Mean Absolute Error:', metrics.mean_absolute_error(y_test, y_pred))\n",
    "print('Mean Squared Error:', metrics.mean_squared_error(y_test, y_pred))\n",
    "print('Root Mean Squared Error:', np.sqrt(metrics.mean_squared_error(y_test, y_pred)))"
   ]
  },
  {
   "cell_type": "code",
   "execution_count": null,
   "metadata": {},
   "outputs": [],
   "source": []
  },
  {
   "cell_type": "code",
   "execution_count": 220,
   "metadata": {},
   "outputs": [],
   "source": [
    "y_pred = best_clf.predict(X_test)"
   ]
  },
  {
   "cell_type": "code",
   "execution_count": 221,
   "metadata": {},
   "outputs": [
    {
     "name": "stdout",
     "output_type": "stream",
     "text": [
      "Mean Absolute Error: 15.374210701229643\n",
      "Mean Squared Error: 470.1464035389125\n",
      "Root Mean Squared Error: 21.682859671614178\n"
     ]
    }
   ],
   "source": [
    "print('Mean Absolute Error:', metrics.mean_absolute_error(y_test, y_pred))\n",
    "print('Mean Squared Error:', metrics.mean_squared_error(y_test, y_pred))\n",
    "print('Root Mean Squared Error:', np.sqrt(metrics.mean_squared_error(y_test, y_pred)))"
   ]
  },
  {
   "cell_type": "code",
   "execution_count": 223,
   "metadata": {
    "collapsed": true,
    "jupyter": {
     "outputs_hidden": true
    },
    "tags": []
   },
   "outputs": [
    {
     "data": {
      "text/plain": [
       "{'mean_fit_time': array([ 1.32433052,  8.63500128, 15.90086541, 23.19463291, 30.54251075,\n",
       "        38.35696816, 46.40986872, 54.17891932, 60.44270902, 67.37381396,\n",
       "         1.40654469,  8.84763794, 16.17511253, 23.46487975, 27.33215523,\n",
       "        36.20139384, 43.89713168, 52.1299624 , 59.2831068 , 66.92093477,\n",
       "         1.28212271,  8.3997601 , 15.96357479, 22.52541642, 28.74809847,\n",
       "        35.97385416, 42.48268628, 48.86779575, 55.5833631 , 63.12387462,\n",
       "         1.27372169,  7.78335319, 14.72515984, 22.01152673, 29.23108182,\n",
       "        36.20699458, 42.87755485, 50.03589883, 57.13513355, 64.0513351 ,\n",
       "         1.38123994,  7.85266485, 14.99970737, 21.67526813, 27.21173077,\n",
       "        34.02871552, 40.60966072, 46.58369908, 50.56779137, 53.14543967]),\n",
       " 'std_fit_time': array([0.01704862, 0.04311351, 0.06587312, 0.16994153, 0.18626849,\n",
       "        0.17849024, 0.16800792, 0.25245428, 0.66866989, 0.81056282,\n",
       "        0.01602919, 0.07440059, 0.29464084, 0.72497049, 0.88387645,\n",
       "        0.31817308, 0.52357694, 0.8239138 , 0.36577652, 0.21846979,\n",
       "        0.02869364, 0.24854594, 0.07239387, 0.06423147, 0.11456665,\n",
       "        0.36700979, 0.22721037, 0.36003735, 0.4267035 , 0.38717928,\n",
       "        0.04732643, 0.04726508, 0.064508  , 0.18716535, 0.08818226,\n",
       "        0.44520315, 0.12411901, 0.48763327, 0.36589966, 0.42539447,\n",
       "        0.02335566, 0.11664795, 0.36521869, 0.1805564 , 0.29721714,\n",
       "        0.12214823, 0.30172599, 0.57010219, 0.58498383, 0.96783601]),\n",
       " 'mean_score_time': array([0.07161279, 0.44137716, 0.84614706, 1.35213547, 1.66478944,\n",
       "        2.17287793, 2.56084514, 2.82679214, 3.19435534, 3.35258236,\n",
       "        0.068712  , 0.46768131, 0.9185596 , 1.07198629, 1.2942215 ,\n",
       "        2.01415029, 2.36691151, 2.80138774, 3.07263417, 3.40059142,\n",
       "        0.06731176, 0.443577  , 0.81174107, 1.17710452, 1.62438197,\n",
       "        1.92433519, 2.24368992, 2.77608256, 3.05493121, 3.4699028 ,\n",
       "        0.07261252, 0.43667569, 0.8179472 , 1.30862727, 1.64228582,\n",
       "        1.91363282, 2.25069113, 2.84929495, 3.14164615, 3.29657712,\n",
       "        0.07381287, 0.42457376, 0.89796057, 1.12709613, 1.46465497,\n",
       "        1.85272236, 2.16027541, 2.44542503, 2.61025362, 2.62205586]),\n",
       " 'std_score_time': array([0.00538985, 0.00998997, 0.02329961, 0.03791894, 0.02247167,\n",
       "        0.06605334, 0.13156773, 0.09874623, 0.14122031, 0.44742004,\n",
       "        0.00680302, 0.03498515, 0.04114331, 0.04923204, 0.16114659,\n",
       "        0.02823726, 0.0403171 , 0.10558155, 0.11766068, 0.15800178,\n",
       "        0.00169173, 0.02573556, 0.06807311, 0.03899036, 0.10453986,\n",
       "        0.10826513, 0.03562179, 0.11892312, 0.15440956, 0.15802022,\n",
       "        0.0053147 , 0.0185056 , 0.05459908, 0.04257659, 0.06929692,\n",
       "        0.13921564, 0.07710005, 0.19130096, 0.15227649, 0.082141  ,\n",
       "        0.00913751, 0.03361723, 0.07590755, 0.02983731, 0.07112019,\n",
       "        0.08241055, 0.04201728, 0.09380744, 0.07355091, 0.03545509]),\n",
       " 'param_classifier__learning_rate': masked_array(data=[0.01, 0.01, 0.01, 0.01, 0.01, 0.01, 0.01, 0.01, 0.01,\n",
       "                    0.01, 0.1, 0.1, 0.1, 0.1, 0.1, 0.1, 0.1, 0.1, 0.1, 0.1,\n",
       "                    0.5, 0.5, 0.5, 0.5, 0.5, 0.5, 0.5, 0.5, 0.5, 0.5, 0.8,\n",
       "                    0.8, 0.8, 0.8, 0.8, 0.8, 0.8, 0.8, 0.8, 0.8, 1, 1, 1,\n",
       "                    1, 1, 1, 1, 1, 1, 1],\n",
       "              mask=[False, False, False, False, False, False, False, False,\n",
       "                    False, False, False, False, False, False, False, False,\n",
       "                    False, False, False, False, False, False, False, False,\n",
       "                    False, False, False, False, False, False, False, False,\n",
       "                    False, False, False, False, False, False, False, False,\n",
       "                    False, False, False, False, False, False, False, False,\n",
       "                    False, False],\n",
       "        fill_value='?',\n",
       "             dtype=object),\n",
       " 'param_classifier__n_estimators': masked_array(data=[10, 64, 118, 173, 227, 282, 336, 391, 445, 500, 10, 64,\n",
       "                    118, 173, 227, 282, 336, 391, 445, 500, 10, 64, 118,\n",
       "                    173, 227, 282, 336, 391, 445, 500, 10, 64, 118, 173,\n",
       "                    227, 282, 336, 391, 445, 500, 10, 64, 118, 173, 227,\n",
       "                    282, 336, 391, 445, 500],\n",
       "              mask=[False, False, False, False, False, False, False, False,\n",
       "                    False, False, False, False, False, False, False, False,\n",
       "                    False, False, False, False, False, False, False, False,\n",
       "                    False, False, False, False, False, False, False, False,\n",
       "                    False, False, False, False, False, False, False, False,\n",
       "                    False, False, False, False, False, False, False, False,\n",
       "                    False, False],\n",
       "        fill_value='?',\n",
       "             dtype=object),\n",
       " 'params': [{'classifier__learning_rate': 0.01,\n",
       "   'classifier__n_estimators': 10},\n",
       "  {'classifier__learning_rate': 0.01, 'classifier__n_estimators': 64},\n",
       "  {'classifier__learning_rate': 0.01, 'classifier__n_estimators': 118},\n",
       "  {'classifier__learning_rate': 0.01, 'classifier__n_estimators': 173},\n",
       "  {'classifier__learning_rate': 0.01, 'classifier__n_estimators': 227},\n",
       "  {'classifier__learning_rate': 0.01, 'classifier__n_estimators': 282},\n",
       "  {'classifier__learning_rate': 0.01, 'classifier__n_estimators': 336},\n",
       "  {'classifier__learning_rate': 0.01, 'classifier__n_estimators': 391},\n",
       "  {'classifier__learning_rate': 0.01, 'classifier__n_estimators': 445},\n",
       "  {'classifier__learning_rate': 0.01, 'classifier__n_estimators': 500},\n",
       "  {'classifier__learning_rate': 0.1, 'classifier__n_estimators': 10},\n",
       "  {'classifier__learning_rate': 0.1, 'classifier__n_estimators': 64},\n",
       "  {'classifier__learning_rate': 0.1, 'classifier__n_estimators': 118},\n",
       "  {'classifier__learning_rate': 0.1, 'classifier__n_estimators': 173},\n",
       "  {'classifier__learning_rate': 0.1, 'classifier__n_estimators': 227},\n",
       "  {'classifier__learning_rate': 0.1, 'classifier__n_estimators': 282},\n",
       "  {'classifier__learning_rate': 0.1, 'classifier__n_estimators': 336},\n",
       "  {'classifier__learning_rate': 0.1, 'classifier__n_estimators': 391},\n",
       "  {'classifier__learning_rate': 0.1, 'classifier__n_estimators': 445},\n",
       "  {'classifier__learning_rate': 0.1, 'classifier__n_estimators': 500},\n",
       "  {'classifier__learning_rate': 0.5, 'classifier__n_estimators': 10},\n",
       "  {'classifier__learning_rate': 0.5, 'classifier__n_estimators': 64},\n",
       "  {'classifier__learning_rate': 0.5, 'classifier__n_estimators': 118},\n",
       "  {'classifier__learning_rate': 0.5, 'classifier__n_estimators': 173},\n",
       "  {'classifier__learning_rate': 0.5, 'classifier__n_estimators': 227},\n",
       "  {'classifier__learning_rate': 0.5, 'classifier__n_estimators': 282},\n",
       "  {'classifier__learning_rate': 0.5, 'classifier__n_estimators': 336},\n",
       "  {'classifier__learning_rate': 0.5, 'classifier__n_estimators': 391},\n",
       "  {'classifier__learning_rate': 0.5, 'classifier__n_estimators': 445},\n",
       "  {'classifier__learning_rate': 0.5, 'classifier__n_estimators': 500},\n",
       "  {'classifier__learning_rate': 0.8, 'classifier__n_estimators': 10},\n",
       "  {'classifier__learning_rate': 0.8, 'classifier__n_estimators': 64},\n",
       "  {'classifier__learning_rate': 0.8, 'classifier__n_estimators': 118},\n",
       "  {'classifier__learning_rate': 0.8, 'classifier__n_estimators': 173},\n",
       "  {'classifier__learning_rate': 0.8, 'classifier__n_estimators': 227},\n",
       "  {'classifier__learning_rate': 0.8, 'classifier__n_estimators': 282},\n",
       "  {'classifier__learning_rate': 0.8, 'classifier__n_estimators': 336},\n",
       "  {'classifier__learning_rate': 0.8, 'classifier__n_estimators': 391},\n",
       "  {'classifier__learning_rate': 0.8, 'classifier__n_estimators': 445},\n",
       "  {'classifier__learning_rate': 0.8, 'classifier__n_estimators': 500},\n",
       "  {'classifier__learning_rate': 1, 'classifier__n_estimators': 10},\n",
       "  {'classifier__learning_rate': 1, 'classifier__n_estimators': 64},\n",
       "  {'classifier__learning_rate': 1, 'classifier__n_estimators': 118},\n",
       "  {'classifier__learning_rate': 1, 'classifier__n_estimators': 173},\n",
       "  {'classifier__learning_rate': 1, 'classifier__n_estimators': 227},\n",
       "  {'classifier__learning_rate': 1, 'classifier__n_estimators': 282},\n",
       "  {'classifier__learning_rate': 1, 'classifier__n_estimators': 336},\n",
       "  {'classifier__learning_rate': 1, 'classifier__n_estimators': 391},\n",
       "  {'classifier__learning_rate': 1, 'classifier__n_estimators': 445},\n",
       "  {'classifier__learning_rate': 1, 'classifier__n_estimators': 500}],\n",
       " 'split0_test_score': array([0.61196003, 0.65817198, 0.74536471, 0.76095413, 0.78056808,\n",
       "        0.77907135, 0.79446997, 0.81210386, 0.81427468, 0.81600878,\n",
       "        0.63463215, 0.82034473, 0.8441833 , 0.85067414, 0.85909129,\n",
       "        0.85942765, 0.8642945 , 0.86590018, 0.86177861, 0.86389646,\n",
       "        0.78991809, 0.85989237, 0.86541022, 0.85769746, 0.86844943,\n",
       "        0.86549641, 0.85889824, 0.86013985, 0.86296839, 0.86454999,\n",
       "        0.79448148, 0.85660786, 0.85591841, 0.8483436 , 0.85224224,\n",
       "        0.85570621, 0.85843108, 0.86126611, 0.85287977, 0.85469687,\n",
       "        0.79139149, 0.83098   , 0.83614035, 0.84613162, 0.84675667,\n",
       "        0.84929847, 0.84853984, 0.84984932, 0.85019107, 0.84251602]),\n",
       " 'split1_test_score': array([0.69153457, 0.72458823, 0.73593891, 0.7709226 , 0.77266498,\n",
       "        0.78142956, 0.78029267, 0.77855273, 0.78271814, 0.77999777,\n",
       "        0.72795729, 0.78054468, 0.78577551, 0.78729873, 0.78819489,\n",
       "        0.79392509, 0.79113032, 0.79408732, 0.7910115 , 0.79520407,\n",
       "        0.81293881, 0.79337929, 0.79739363, 0.79194593, 0.79468911,\n",
       "        0.79753486, 0.80142799, 0.79329232, 0.79696824, 0.79395525,\n",
       "        0.78696876, 0.79126462, 0.7977018 , 0.79875557, 0.80031645,\n",
       "        0.79689967, 0.79818839, 0.79488026, 0.79276027, 0.79663611,\n",
       "        0.79584986, 0.79594062, 0.80108142, 0.79193957, 0.79117539,\n",
       "        0.79139144, 0.79372335, 0.7974625 , 0.79646217, 0.7909899 ]),\n",
       " 'split2_test_score': array([0.27717865, 0.29025735, 0.31140495, 0.31853891, 0.34423015,\n",
       "        0.34087974, 0.34763197, 0.35113406, 0.36040652, 0.36192309,\n",
       "        0.24717967, 0.37061468, 0.38573022, 0.39534971, 0.39912562,\n",
       "        0.40207772, 0.4108276 , 0.41057651, 0.41046208, 0.40767445,\n",
       "        0.32774645, 0.41359858, 0.42724428, 0.40978908, 0.4246025 ,\n",
       "        0.41230763, 0.41975267, 0.42424237, 0.42223022, 0.42171882,\n",
       "        0.38728478, 0.43722332, 0.44166046, 0.43026124, 0.43303881,\n",
       "        0.43348265, 0.42798403, 0.42667961, 0.43257257, 0.42540668,\n",
       "        0.40178177, 0.41593123, 0.43412328, 0.43141601, 0.4384137 ,\n",
       "        0.42920229, 0.43835701, 0.43402454, 0.42708249, 0.43363385]),\n",
       " 'split3_test_score': array([0.37835729, 0.48049339, 0.53263114, 0.56326456, 0.59085713,\n",
       "        0.6131788 , 0.61944112, 0.63051065, 0.64529686, 0.65346478,\n",
       "        0.43099002, 0.65888348, 0.68478872, 0.71710667, 0.7030958 ,\n",
       "        0.72212984, 0.72144416, 0.72444002, 0.72783091, 0.72921135,\n",
       "        0.63971789, 0.71228747, 0.73372578, 0.72684763, 0.72923186,\n",
       "        0.731539  , 0.73089626, 0.73284494, 0.72432133, 0.73533797,\n",
       "        0.68273841, 0.71512967, 0.72026422, 0.73332439, 0.723238  ,\n",
       "        0.72780968, 0.72832915, 0.72673505, 0.72731169, 0.73072273,\n",
       "        0.6333016 , 0.72578297, 0.70786934, 0.70584323, 0.71547304,\n",
       "        0.72793768, 0.72253995, 0.72580271, 0.7311042 , 0.71883899]),\n",
       " 'split4_test_score': array([0.56264694, 0.59117875, 0.67401933, 0.68873113, 0.71849939,\n",
       "        0.72114961, 0.72744648, 0.75027607, 0.7655362 , 0.76873468,\n",
       "        0.67041787, 0.7608988 , 0.80058791, 0.81402875, 0.82206146,\n",
       "        0.82553686, 0.82131487, 0.82620565, 0.8184021 , 0.81897052,\n",
       "        0.77313452, 0.80290276, 0.83410562, 0.83091056, 0.83251964,\n",
       "        0.82609698, 0.8277737 , 0.81723506, 0.82600457, 0.83134838,\n",
       "        0.79806698, 0.8069055 , 0.81834892, 0.83531013, 0.8197297 ,\n",
       "        0.82655533, 0.82541526, 0.82800214, 0.82393633, 0.83287799,\n",
       "        0.76960596, 0.81447684, 0.83265725, 0.83270208, 0.82683971,\n",
       "        0.82305832, 0.81783573, 0.82385209, 0.81437176, 0.82761039]),\n",
       " 'mean_test_score': array([0.5043355 , 0.54893794, 0.59987181, 0.62048227, 0.64136395,\n",
       "        0.64714181, 0.65385644, 0.66451547, 0.67364648, 0.67602582,\n",
       "        0.5422354 , 0.67825727, 0.70021313, 0.7128916 , 0.71431381,\n",
       "        0.72061943, 0.72180229, 0.72424194, 0.72189704, 0.72299137,\n",
       "        0.66869115, 0.7164121 , 0.73157591, 0.72343813, 0.72989851,\n",
       "        0.72659498, 0.72774977, 0.72555091, 0.72649855, 0.72938208,\n",
       "        0.68990808, 0.7214262 , 0.72677876, 0.72919899, 0.72571304,\n",
       "        0.72809071, 0.72766958, 0.72751264, 0.72589213, 0.72806808,\n",
       "        0.67838614, 0.71662233, 0.72237433, 0.7216065 , 0.7237317 ,\n",
       "        0.72417764, 0.72419918, 0.72619823, 0.72384234, 0.72271783]),\n",
       " 'std_test_score': array([0.15329547, 0.15242683, 0.16304278, 0.16820595, 0.16334446,\n",
       "        0.16484277, 0.16500401, 0.16822957, 0.16675708, 0.16623469,\n",
       "        0.17826606, 0.16278851, 0.16568696, 0.16468139, 0.16582999,\n",
       "        0.16560206, 0.16230745, 0.16354087, 0.16166869, 0.16355083,\n",
       "        0.18082838, 0.15855864, 0.15835296, 0.16288435, 0.15945618,\n",
       "        0.16311205, 0.15969051, 0.15617241, 0.15879257, 0.15970557,\n",
       "        0.15728127, 0.14917716, 0.14928302, 0.15470871, 0.15236717,\n",
       "        0.1533034 , 0.15584451, 0.15686149, 0.15247836, 0.15705573,\n",
       "        0.15061978, 0.15455978, 0.1513928 , 0.15313685, 0.14952566,\n",
       "        0.15295418, 0.14884254, 0.15183549, 0.15333125, 0.15073137]),\n",
       " 'rank_test_score': array([50, 48, 47, 46, 45, 44, 43, 42, 40, 39, 49, 38, 35, 34, 33, 30, 27,\n",
       "        17, 26, 23, 41, 32,  1, 22,  2, 11,  7, 16, 12,  3, 36, 29, 10,  4,\n",
       "        15,  5,  8,  9, 14,  6, 37, 31, 25, 28, 21, 19, 18, 13, 20, 24]),\n",
       " 'split0_train_score': array([0.89522136, 0.9371935 , 0.95675069, 0.9622557 , 0.96748452,\n",
       "        0.97064186, 0.9726415 , 0.97543976, 0.97643983, 0.9777175 ,\n",
       "        0.92849377, 0.97757395, 0.98274056, 0.98342756, 0.98401646,\n",
       "        0.98467831, 0.98503312, 0.9855818 , 0.98560107, 0.98579918,\n",
       "        0.96708512, 0.98302793, 0.98442845, 0.98378114, 0.98426037,\n",
       "        0.98451906, 0.98436565, 0.98413182, 0.98433745, 0.98415447,\n",
       "        0.96722815, 0.97967405, 0.98120144, 0.97964452, 0.98124389,\n",
       "        0.98084909, 0.98130889, 0.9817194 , 0.98167598, 0.98127236,\n",
       "        0.96772786, 0.97779275, 0.97694325, 0.97797617, 0.97775358,\n",
       "        0.97868565, 0.97774472, 0.97806316, 0.97812006, 0.97753892]),\n",
       " 'split1_train_score': array([0.89872075, 0.94059202, 0.95274355, 0.96328581, 0.9715813 ,\n",
       "        0.97371298, 0.97559947, 0.97742003, 0.97820357, 0.9794065 ,\n",
       "        0.91793952, 0.98114884, 0.98441616, 0.98527785, 0.98617888,\n",
       "        0.98641567, 0.98675356, 0.98699369, 0.98711799, 0.98726732,\n",
       "        0.9732822 , 0.98412679, 0.98558256, 0.98556427, 0.98601054,\n",
       "        0.98564616, 0.98638993, 0.98563461, 0.98579328, 0.98592431,\n",
       "        0.97155046, 0.98243726, 0.98231568, 0.98309815, 0.98308969,\n",
       "        0.9825539 , 0.98339888, 0.98229542, 0.98271888, 0.98307563,\n",
       "        0.97297337, 0.98017358, 0.97950603, 0.97894492, 0.97869008,\n",
       "        0.97936764, 0.97961318, 0.97909069, 0.97935637, 0.97828613]),\n",
       " 'split2_train_score': array([0.92351512, 0.96322366, 0.9679583 , 0.97261108, 0.97634024,\n",
       "        0.97801507, 0.98020948, 0.98197466, 0.98253297, 0.98308719,\n",
       "        0.94867956, 0.98418921, 0.98695671, 0.98794031, 0.98837416,\n",
       "        0.98855517, 0.98869926, 0.98876101, 0.98911501, 0.98908812,\n",
       "        0.97141585, 0.98782177, 0.98740153, 0.98729677, 0.98745399,\n",
       "        0.98773176, 0.98777493, 0.98793625, 0.98774806, 0.9878031 ,\n",
       "        0.97834219, 0.98492566, 0.98557796, 0.9862337 , 0.98563465,\n",
       "        0.98555268, 0.98522833, 0.98579922, 0.98509541, 0.98548044,\n",
       "        0.97844807, 0.98235325, 0.98275465, 0.98275165, 0.98281891,\n",
       "        0.98269475, 0.98252144, 0.98270703, 0.98230285, 0.98290007]),\n",
       " 'split3_train_score': array([0.89693913, 0.94742984, 0.95996562, 0.96687893, 0.97243485,\n",
       "        0.97516962, 0.97720933, 0.97854442, 0.97991754, 0.98109944,\n",
       "        0.92214927, 0.98174645, 0.98524575, 0.9866657 , 0.986863  ,\n",
       "        0.98750299, 0.98772075, 0.98773162, 0.98781609, 0.98811883,\n",
       "        0.972167  , 0.98626999, 0.98643216, 0.9867195 , 0.98722341,\n",
       "        0.98656299, 0.98687477, 0.98694112, 0.98707304, 0.98721442,\n",
       "        0.97436686, 0.98275454, 0.98437058, 0.98348256, 0.98495622,\n",
       "        0.98431694, 0.98423104, 0.98430317, 0.9840197 , 0.98438647,\n",
       "        0.97383236, 0.98063475, 0.98100847, 0.98062521, 0.98099283,\n",
       "        0.98159947, 0.98136083, 0.98190708, 0.98151592, 0.98107821]),\n",
       " 'split4_train_score': array([0.88024483, 0.9343251 , 0.94894681, 0.95722691, 0.96380501,\n",
       "        0.96674295, 0.97001695, 0.97283054, 0.97405999, 0.97564408,\n",
       "        0.92067145, 0.97777833, 0.98096428, 0.98256556, 0.98348211,\n",
       "        0.98376137, 0.98383524, 0.98417667, 0.98421735, 0.9841225 ,\n",
       "        0.9679258 , 0.98051626, 0.98278998, 0.98259582, 0.9824595 ,\n",
       "        0.98273558, 0.98234969, 0.98242918, 0.98232428, 0.98291248,\n",
       "        0.9745279 , 0.97881022, 0.97818466, 0.97941422, 0.97900612,\n",
       "        0.97961802, 0.97934875, 0.97915781, 0.97891507, 0.97933727,\n",
       "        0.96975298, 0.97480189, 0.97684058, 0.97460274, 0.97587543,\n",
       "        0.9758284 , 0.97453702, 0.97547702, 0.97531371, 0.97573707]),\n",
       " 'mean_train_score': array([0.89892824, 0.94455282, 0.95727299, 0.96445168, 0.97032918,\n",
       "        0.9728565 , 0.97513535, 0.97724188, 0.97823078, 0.97939094,\n",
       "        0.92758672, 0.98048735, 0.98406469, 0.9851754 , 0.98578292,\n",
       "        0.9861827 , 0.98640838, 0.98664896, 0.9867735 , 0.98687919,\n",
       "        0.97037519, 0.98435255, 0.98532694, 0.9851915 , 0.98548156,\n",
       "        0.98543911, 0.985551  , 0.9854146 , 0.98545522, 0.98560176,\n",
       "        0.97320311, 0.98172035, 0.98233006, 0.98237463, 0.98278612,\n",
       "        0.98257813, 0.98270318, 0.982655  , 0.98248501, 0.98271043,\n",
       "        0.97254693, 0.97915125, 0.9794106 , 0.97898014, 0.97922617,\n",
       "        0.97963518, 0.97915544, 0.979449  , 0.97932178, 0.97910808]),\n",
       " 'std_train_score': array([0.0139379 , 0.01030855, 0.00650446, 0.00511559, 0.00430793,\n",
       "        0.00387234, 0.00354065, 0.00306056, 0.00289682, 0.00258537,\n",
       "        0.01110122, 0.00251211, 0.00206146, 0.00198708, 0.00181394,\n",
       "        0.00176364, 0.00176646, 0.00161262, 0.00170862, 0.00175114,\n",
       "        0.0024318 , 0.00253909, 0.00160214, 0.0017682 , 0.0018883 ,\n",
       "        0.00171568, 0.0019522 , 0.00196447, 0.00195146, 0.00183725,\n",
       "        0.00368649, 0.00221421, 0.00257569, 0.00256363, 0.00243239,\n",
       "        0.00217365, 0.00211618, 0.00227322, 0.00212712, 0.0021937 ,\n",
       "        0.00367933, 0.00261768, 0.00229947, 0.00272402, 0.00243771,\n",
       "        0.00239517, 0.00281862, 0.00262612, 0.00249844, 0.00255977])}"
      ]
     },
     "execution_count": 223,
     "metadata": {},
     "output_type": "execute_result"
    }
   ],
   "source": [
    "best_clf.cv_results_"
   ]
  },
  {
   "cell_type": "code",
   "execution_count": 232,
   "metadata": {},
   "outputs": [
    {
     "data": {
      "text/plain": [
       "<AxesSubplot:>"
      ]
     },
     "execution_count": 232,
     "metadata": {},
     "output_type": "execute_result"
    },
    {
     "data": {
      "image/png": "[encoded data removed]",
      "text/plain": [
       "<Figure size 1080x504 with 2 Axes>"
      ]
     },
     "metadata": {
      "needs_background": "light"
     },
     "output_type": "display_data"
    }
   ],
   "source": [
    "fig = plt.figure(figsize=(15,7))\n",
    "plot.grid_search(best_clf.cv_results_, change=('classifier__n_estimators', 'classifier__learning_rate'))"
   ]
  },
  {
   "cell_type": "code",
   "execution_count": null,
   "metadata": {},
   "outputs": [],
   "source": []
  }
 ],
 "metadata": {
  "colab": {
   "collapsed_sections": [
    "tBjRP1vJNbT2",
    "lR-h7sAuOTfj",
    "X9_keC-fPeKt",
    "LJwyHL5eQH9n"
   ],
   "name": "102 Final Project - Last Chunk BK",
   "provenance": []
  },
  "kernelspec": {
   "display_name": "Python 3 (ipykernel)",
   "language": "python",
   "name": "python3"
  },
  "language_info": {
   "codemirror_mode": {
    "name": "ipython",
    "version": 3
   },
   "file_extension": ".py",
   "mimetype": "text/x-python",
   "name": "python",
   "nbconvert_exporter": "python",
   "pygments_lexer": "ipython3",
   "version": "3.9.7"
  },
  "widgets": {
   "application/vnd.jupyter.widget-state+json": {
    "state": {},
    "version_major": 2,
    "version_minor": 0
   }
  }
 },
 "nbformat": 4,
 "nbformat_minor": 4
}
